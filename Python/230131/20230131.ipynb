{
 "cells": [
  {
   "cell_type": "code",
   "execution_count": 1,
   "id": "2938f62a-2567-40a2-a24f-4f32f4c486bc",
   "metadata": {},
   "outputs": [],
   "source": [
    "import requests  \n",
    "import xml.etree.ElementTree as ET\n",
    "from urllib import parse"
   ]
  },
  {
   "cell_type": "code",
   "execution_count": 3,
   "id": "36d2e6dd-0ad1-4509-bd73-62665879db51",
   "metadata": {},
   "outputs": [],
   "source": []
  },
  {
   "cell_type": "code",
   "execution_count": 9,
   "id": "b8150f84-0e1b-4dbe-8fec-04f5386c5b0f",
   "metadata": {},
   "outputs": [],
   "source": [
    "url = \"http://openapi.airport.co.kr/service/rest/FlightScheduleList/getIflightScheduleList?serviceKey=WRvGBkn9UEtw%2BAsg0tYo210Etxvb1QEcAX%2BwfWvOxVGYJkh1CNZ%2FY4QFa0r7j4bhT4NjPu7z1i1ck8ZgsKMt2Q%3D%3D&schDate=20230102&numOfRows=5000\"\n",
    "result = parse.urlparse(url)\n",
    "query_dict = parse.parse_qs(result.query)\n",
    "query_dict['schDate'] = ['20230131']\n",
    "url = \"http://openapi.airport.co.kr/service/rest/FlightScheduleList/getIflightScheduleList?\" + \\\n",
    "parse.urlencode(query_dict, doseq=True)"
   ]
  },
  {
   "cell_type": "code",
   "execution_count": 23,
   "id": "20227774-e965-4052-b274-5002f6029c4d",
   "metadata": {},
   "outputs": [],
   "source": [
    "url = \"http://openapi.airport.co.kr/service/rest/FlightScheduleList/getIflightScheduleList?\" + \\\n",
    "parse.urlencode(query_dict, doseq=True)"
   ]
  },
  {
   "cell_type": "code",
   "execution_count": 24,
   "id": "3849a5a3-a355-4e2c-b01d-0da62ef128fd",
   "metadata": {},
   "outputs": [],
   "source": [
    "r= requests.get(url)"
   ]
  },
  {
   "cell_type": "code",
   "execution_count": 26,
   "id": "f917cb36-ded9-475d-bae8-8069cfcf6eee",
   "metadata": {},
   "outputs": [],
   "source": [
    "root = ET.fromstring(r.text)"
   ]
  },
  {
   "cell_type": "code",
   "execution_count": 39,
   "id": "ce31dcf1-3b5b-4aac-8be1-13e9d1d15576",
   "metadata": {},
   "outputs": [],
   "source": [
    "items = root.iter(tag='item')\n",
    "total = []\n",
    "for element in items:\n",
    "    dict_ = {}\n",
    "    for x in element:\n",
    "        dict_[x.tag] = x.text\n",
    "    total.append(dict_)"
   ]
  },
  {
   "cell_type": "code",
   "execution_count": 42,
   "id": "6653559a-6fa0-47af-bc22-3c47018c0ad8",
   "metadata": {},
   "outputs": [],
   "source": [
    "import pandas as pd"
   ]
  },
  {
   "cell_type": "code",
   "execution_count": 45,
   "id": "814c9974-c545-4123-b0d1-33b3f558e571",
   "metadata": {},
   "outputs": [],
   "source": [
    "pd.DataFrame(total).to_excel(\"./air.xlsx\")"
   ]
  },
  {
   "cell_type": "code",
   "execution_count": 46,
   "id": "9ae80a44-a379-43d9-bf19-3f20b6a121b3",
   "metadata": {},
   "outputs": [],
   "source": [
    "def fib(n):\n",
    "    if n < 2:\n",
    "        return 1\n",
    "    else:\n",
    "        return fib(n-1) + fib(n-2)"
   ]
  },
  {
   "cell_type": "markdown",
   "id": "667c6b6c-504f-461f-a15c-79fd753bcc40",
   "metadata": {},
   "source": [
    "fib(100)"
   ]
  },
  {
   "cell_type": "markdown",
   "id": "b837d5d9-e45e-49af-8743-3fd6daa3012c",
   "metadata": {},
   "source": [
    "# generator, iterator, co-routine"
   ]
  },
  {
   "cell_type": "code",
   "execution_count": 48,
   "id": "2429827d-06e7-4879-a81d-fff210e88890",
   "metadata": {},
   "outputs": [],
   "source": [
    "def fib_gene(n):\n",
    "    a, b = 0, 1\n",
    "    for _ in range(n):\n",
    "        yield a\n",
    "        a, b= b , a + b"
   ]
  },
  {
   "cell_type": "code",
   "execution_count": 50,
   "id": "bb288438-089a-4172-8626-e0da1cf2ae03",
   "metadata": {},
   "outputs": [
    {
     "name": "stdout",
     "output_type": "stream",
     "text": [
      "218922995834555169026\n"
     ]
    }
   ],
   "source": [
    "print (list(fib_gene(100))[-1])"
   ]
  },
  {
   "cell_type": "markdown",
   "id": "c21d49a1-879d-44ef-982c-430b8df478a5",
   "metadata": {},
   "source": [
    "# decorator"
   ]
  },
  {
   "cell_type": "code",
   "execution_count": 51,
   "id": "25d5b757-fd58-49c5-ab0a-d1b9ff3c91e5",
   "metadata": {},
   "outputs": [],
   "source": [
    "def func_a(func):\n",
    "    def inner():\n",
    "        print(\"inner function\")\n",
    "        func()\n",
    "    return inner"
   ]
  },
  {
   "cell_type": "code",
   "execution_count": 53,
   "id": "c2330ef8-e37b-475f-aa16-b4877ef2b6d2",
   "metadata": {},
   "outputs": [],
   "source": [
    "@func_a\n",
    "def func_b():\n",
    "    print(\"func_b start\")"
   ]
  },
  {
   "cell_type": "code",
   "execution_count": 54,
   "id": "05ae01ef-e29d-402f-8594-c5f0eea6f2bb",
   "metadata": {},
   "outputs": [
    {
     "name": "stdout",
     "output_type": "stream",
     "text": [
      "inner function\n",
      "func_b start\n"
     ]
    }
   ],
   "source": [
    "func_b()"
   ]
  },
  {
   "cell_type": "code",
   "execution_count": null,
   "id": "1eb152ae-adba-4e90-9980-373f7cd7fa0f",
   "metadata": {},
   "outputs": [],
   "source": []
  }
 ],
 "metadata": {
  "kernelspec": {
   "display_name": "Python 3 (ipykernel)",
   "language": "python",
   "name": "python3"
  },
  "language_info": {
   "codemirror_mode": {
    "name": "ipython",
    "version": 3
   },
   "file_extension": ".py",
   "mimetype": "text/x-python",
   "name": "python",
   "nbconvert_exporter": "python",
   "pygments_lexer": "ipython3",
   "version": "3.9.13"
  }
 },
 "nbformat": 4,
 "nbformat_minor": 5
}
