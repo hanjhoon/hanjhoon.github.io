{
  "nbformat": 4,
  "nbformat_minor": 0,
  "metadata": {
    "colab": {
      "provenance": []
    },
    "kernelspec": {
      "name": "python3",
      "display_name": "Python 3"
    },
    "language_info": {
      "name": "python"
    }
  },
  "cells": [
    {
      "cell_type": "markdown",
      "source": [
        "# Numpy 행렬 및 배열 연산\n",
        "\n",
        "1. ###  Numpy array vs Python list\n",
        "\n",
        " >##### Numpy array : Python list 보다 빠르고 작다. 코드 최적화\n",
        "\n",
        "\n"
      ],
      "metadata": {
        "id": "Fz2XznCNkGae"
      }
    },
    {
      "cell_type": "markdown",
      "source": [
        "2. ### 배열 생성"
      ],
      "metadata": {
        "id": "qVqHAyaqphmi"
      }
    },
    {
      "cell_type": "code",
      "source": [
        "import numpy as np\n",
        "lst=[\n",
        "    [1,2,3],\n",
        "    [4,5,6]\n",
        "]\n",
        "\n",
        "arr=np.array(lst)\n",
        "arr"
      ],
      "metadata": {
        "colab": {
          "base_uri": "https://localhost:8080/"
        },
        "id": "pXW1lC69n-OL",
        "outputId": "252e53af-833f-4202-a819-00c9557faf2f"
      },
      "execution_count": 14,
      "outputs": [
        {
          "output_type": "execute_result",
          "data": {
            "text/plain": [
              "array([[1, 2, 3],\n",
              "       [4, 5, 6]])"
            ]
          },
          "metadata": {},
          "execution_count": 14
        }
      ]
    },
    {
      "cell_type": "code",
      "source": [
        "scalar = 1\n",
        "vector=np.array([1,2,3,4])\n",
        "vector_f =np.array([1,2,3,4,5,6],float)"
      ],
      "metadata": {
        "id": "sNHpSS7IotbK"
      },
      "execution_count": 24,
      "outputs": []
    },
    {
      "cell_type": "code",
      "source": [
        "print(type(vector), type(vector_f))"
      ],
      "metadata": {
        "colab": {
          "base_uri": "https://localhost:8080/"
        },
        "id": "ThsLOq56pQCc",
        "outputId": "40fef99a-4b8d-48ad-9af0-8005a7ed188a"
      },
      "execution_count": 25,
      "outputs": [
        {
          "output_type": "stream",
          "name": "stdout",
          "text": [
            "<class 'numpy.ndarray'> <class 'numpy.ndarray'>\n"
          ]
        }
      ]
    },
    {
      "cell_type": "code",
      "source": [
        "vector.shape, vector_f.shape"
      ],
      "metadata": {
        "colab": {
          "base_uri": "https://localhost:8080/"
        },
        "id": "XEObdvYDpx1F",
        "outputId": "025686e9-75fc-4292-9787-286cfc708d27"
      },
      "execution_count": 26,
      "outputs": [
        {
          "output_type": "execute_result",
          "data": {
            "text/plain": [
              "((4,), (6,))"
            ]
          },
          "metadata": {},
          "execution_count": 26
        }
      ]
    },
    {
      "cell_type": "code",
      "source": [
        "vector.dtype, vector_f.dtype"
      ],
      "metadata": {
        "colab": {
          "base_uri": "https://localhost:8080/"
        },
        "id": "K3ha0zm9pzHQ",
        "outputId": "e0bf207b-9095-43aa-e54e-92f3ff81b991"
      },
      "execution_count": 27,
      "outputs": [
        {
          "output_type": "execute_result",
          "data": {
            "text/plain": [
              "(dtype('int64'), dtype('float64'))"
            ]
          },
          "metadata": {},
          "execution_count": 27
        }
      ]
    },
    {
      "cell_type": "code",
      "source": [
        "vec1=np.array([1,2,3,4,5,6])\n",
        "vec2=np.array([[1,2,3],[4,5,6]])"
      ],
      "metadata": {
        "id": "aA94ZBHYp0Ev"
      },
      "execution_count": 30,
      "outputs": []
    },
    {
      "cell_type": "code",
      "source": [
        "vec1.size, vec2.size"
      ],
      "metadata": {
        "colab": {
          "base_uri": "https://localhost:8080/"
        },
        "id": "ldZJZr2oqlZx",
        "outputId": "1eb328b7-d478-4642-8721-821420786414"
      },
      "execution_count": 31,
      "outputs": [
        {
          "output_type": "execute_result",
          "data": {
            "text/plain": [
              "(6, 6)"
            ]
          },
          "metadata": {},
          "execution_count": 31
        }
      ]
    },
    {
      "cell_type": "code",
      "source": [
        "vec1.shape, vec2.shape"
      ],
      "metadata": {
        "colab": {
          "base_uri": "https://localhost:8080/"
        },
        "id": "2FQ73Wyjq28A",
        "outputId": "fd5fb001-f833-4ed2-e1ff-c6a1b1632174"
      },
      "execution_count": 32,
      "outputs": [
        {
          "output_type": "execute_result",
          "data": {
            "text/plain": [
              "((6,), (2, 3))"
            ]
          },
          "metadata": {},
          "execution_count": 32
        }
      ]
    },
    {
      "cell_type": "code",
      "source": [
        "vec1.shape[0], vec2.shape[0]"
      ],
      "metadata": {
        "colab": {
          "base_uri": "https://localhost:8080/"
        },
        "id": "gciPwwaXrAFg",
        "outputId": "8bc4fdfe-da8d-49a9-dbd5-77919dd88032"
      },
      "execution_count": 33,
      "outputs": [
        {
          "output_type": "execute_result",
          "data": {
            "text/plain": [
              "(6, 2)"
            ]
          },
          "metadata": {},
          "execution_count": 33
        }
      ]
    },
    {
      "cell_type": "code",
      "source": [
        "vec2[0,0], vec2[1,2]"
      ],
      "metadata": {
        "colab": {
          "base_uri": "https://localhost:8080/"
        },
        "id": "R_leArmOrGPz",
        "outputId": "5c4b22eb-88af-4379-ac1a-7c985935bd46"
      },
      "execution_count": 38,
      "outputs": [
        {
          "output_type": "execute_result",
          "data": {
            "text/plain": [
              "(1, 6)"
            ]
          },
          "metadata": {},
          "execution_count": 38
        }
      ]
    },
    {
      "cell_type": "markdown",
      "source": [
        "- ##### 특수 배열 생성성"
      ],
      "metadata": {
        "id": "EuY11n_lr6VY"
      }
    },
    {
      "cell_type": "code",
      "source": [
        "arr = np.array([0,1,2,3,4,5,6,7,8,9])"
      ],
      "metadata": {
        "id": "MEp6BZQ9rXRx"
      },
      "execution_count": 44,
      "outputs": []
    },
    {
      "cell_type": "code",
      "source": [
        "arr1 = np.array(range(0,10))"
      ],
      "metadata": {
        "id": "PHubK9NdsKlR"
      },
      "execution_count": 45,
      "outputs": []
    },
    {
      "cell_type": "code",
      "source": [
        "arr2 = np.arange(0,10)"
      ],
      "metadata": {
        "id": "zp4ugFLosPRH"
      },
      "execution_count": 54,
      "outputs": []
    },
    {
      "cell_type": "code",
      "source": [
        "arr.ndim, arr1.ndim, arr2.ndim"
      ],
      "metadata": {
        "colab": {
          "base_uri": "https://localhost:8080/"
        },
        "id": "hA3LhiJ3x0My",
        "outputId": "0167eeaa-8fa1-4e90-ab76-7fbb7f414306"
      },
      "execution_count": 70,
      "outputs": [
        {
          "output_type": "execute_result",
          "data": {
            "text/plain": [
              "(1, 1, 1)"
            ]
          },
          "metadata": {},
          "execution_count": 70
        }
      ]
    },
    {
      "cell_type": "code",
      "source": [
        "arr4=np.array([[1,2,3,],[4,4,5],[6,6,6,],[7,7,7]])\n",
        "arr5=np.array([[1,2,3,],[4,4,5],[6,6,6,],[7,7,7],[8,8,8]])\n",
        "arr6=np.array([[[1,2,3],[4,5,6]],[[3,4,5],[7,8,9]],[[1,2,3],[4,5,6]],[[3,4,5],[7,8,9]]])\n",
        "arr4.ndim, arr5.ndim, arr6.ndim\n",
        "print(arr6, arr6.shape, arr6.ndim)\n",
        "# ndim 행렬의 차원수 : []개수 / 3차원 : (2d 갯수, 1d 갯수, scala 갯수) / n차원 : ((n-1)차원갯수, , , , , ,scalar갯수)"
      ],
      "metadata": {
        "colab": {
          "base_uri": "https://localhost:8080/"
        },
        "id": "TwA6UEPpx_8x",
        "outputId": "58f06fc7-f3d4-4e65-fd71-8004c84df4fb"
      },
      "execution_count": 98,
      "outputs": [
        {
          "output_type": "stream",
          "name": "stdout",
          "text": [
            "[[[1 2 3]\n",
            "  [4 5 6]]\n",
            "\n",
            " [[3 4 5]\n",
            "  [7 8 9]]\n",
            "\n",
            " [[1 2 3]\n",
            "  [4 5 6]]\n",
            "\n",
            " [[3 4 5]\n",
            "  [7 8 9]]] (4, 2, 3) 3\n"
          ]
        }
      ]
    },
    {
      "cell_type": "code",
      "source": [
        "np.eye(3)"
      ],
      "metadata": {
        "colab": {
          "base_uri": "https://localhost:8080/"
        },
        "id": "Tz6WO-IFshbV",
        "outputId": "21f5db28-36e0-4c1b-8e14-45e81f201920"
      },
      "execution_count": 72,
      "outputs": [
        {
          "output_type": "execute_result",
          "data": {
            "text/plain": [
              "array([[1., 0., 0.],\n",
              "       [0., 1., 0.],\n",
              "       [0., 0., 1.]])"
            ]
          },
          "metadata": {},
          "execution_count": 72
        }
      ]
    },
    {
      "cell_type": "code",
      "source": [
        "np.ones((2,5))"
      ],
      "metadata": {
        "colab": {
          "base_uri": "https://localhost:8080/"
        },
        "id": "ixKW4owlsi1c",
        "outputId": "43be89cb-b9bb-4f64-f3ae-a6a7c9c57951"
      },
      "execution_count": 58,
      "outputs": [
        {
          "output_type": "execute_result",
          "data": {
            "text/plain": [
              "array([[1., 1., 1., 1., 1.],\n",
              "       [1., 1., 1., 1., 1.]])"
            ]
          },
          "metadata": {},
          "execution_count": 58
        }
      ]
    },
    {
      "cell_type": "code",
      "source": [
        "np.zeros((2,5))"
      ],
      "metadata": {
        "colab": {
          "base_uri": "https://localhost:8080/"
        },
        "id": "IQQ5EjLstV_o",
        "outputId": "e7665910-5650-46bc-d3de-8b4710b3aa1f"
      },
      "execution_count": 61,
      "outputs": [
        {
          "output_type": "execute_result",
          "data": {
            "text/plain": [
              "array([[0., 0., 0., 0., 0.],\n",
              "       [0., 0., 0., 0., 0.]])"
            ]
          },
          "metadata": {},
          "execution_count": 61
        }
      ]
    },
    {
      "cell_type": "code",
      "source": [
        "np.full((2,5),6)"
      ],
      "metadata": {
        "colab": {
          "base_uri": "https://localhost:8080/"
        },
        "id": "zZcGx0INtheE",
        "outputId": "5dc9340a-9351-480c-8118-1e26494d3c1c"
      },
      "execution_count": 64,
      "outputs": [
        {
          "output_type": "execute_result",
          "data": {
            "text/plain": [
              "array([[6, 6, 6, 6, 6],\n",
              "       [6, 6, 6, 6, 6]])"
            ]
          },
          "metadata": {},
          "execution_count": 64
        }
      ]
    },
    {
      "cell_type": "code",
      "source": [
        "rg=np.random.default_rng(1)"
      ],
      "metadata": {
        "id": "n19x9Afmt2YI"
      },
      "execution_count": 65,
      "outputs": []
    },
    {
      "cell_type": "code",
      "source": [
        "np.floor(100*rg.random((2,2))), np.floor(3*rg.random((2,2)))"
      ],
      "metadata": {
        "colab": {
          "base_uri": "https://localhost:8080/"
        },
        "id": "ZOACva2RuALp",
        "outputId": "4c6beb17-8be0-4c46-ccfe-016a923dec36"
      },
      "execution_count": 69,
      "outputs": [
        {
          "output_type": "execute_result",
          "data": {
            "text/plain": [
              "(array([[54.,  2.],\n",
              "        [75., 53.]]), array([[0., 2.],\n",
              "        [0., 1.]]))"
            ]
          },
          "metadata": {},
          "execution_count": 69
        }
      ]
    },
    {
      "cell_type": "markdown",
      "source": [
        "- ##### 배열의 결합\n",
        "\n"
      ],
      "metadata": {
        "id": "QzmtsVYfyoZZ"
      }
    },
    {
      "cell_type": "code",
      "source": [
        "arr1=np.array([[1,2,3],[4,5,6]])\n",
        "arr2=np.array([[7,8,9],[0,0,0]])"
      ],
      "metadata": {
        "id": "_oo6JPuvyubx"
      },
      "execution_count": 76,
      "outputs": []
    },
    {
      "cell_type": "code",
      "source": [
        "print(np.vstack((arr1,arr2)))"
      ],
      "metadata": {
        "colab": {
          "base_uri": "https://localhost:8080/"
        },
        "id": "6IgAne0cy510",
        "outputId": "caa0ca49-ed61-494f-970a-3cd3f1f0a4b4"
      },
      "execution_count": 81,
      "outputs": [
        {
          "output_type": "stream",
          "name": "stdout",
          "text": [
            "[[1 2 3]\n",
            " [4 5 6]\n",
            " [7 8 9]\n",
            " [0 0 0]]\n"
          ]
        }
      ]
    },
    {
      "cell_type": "code",
      "source": [
        "print(np.hstack((arr1,arr2)))"
      ],
      "metadata": {
        "colab": {
          "base_uri": "https://localhost:8080/"
        },
        "id": "m0SkUksGy-_l",
        "outputId": "d45e5e65-febc-46f5-d383-a2d61d38f711"
      },
      "execution_count": 82,
      "outputs": [
        {
          "output_type": "stream",
          "name": "stdout",
          "text": [
            "[[1 2 3 7 8 9]\n",
            " [4 5 6 0 0 0]]\n"
          ]
        }
      ]
    },
    {
      "cell_type": "markdown",
      "source": [
        "- ##### 배열의 차원 변환"
      ],
      "metadata": {
        "id": "eFXlOAqo2vuu"
      }
    },
    {
      "cell_type": "code",
      "source": [
        "arr = np.arange(12)\n",
        "arr"
      ],
      "metadata": {
        "colab": {
          "base_uri": "https://localhost:8080/"
        },
        "id": "cVDt2YnR220H",
        "outputId": "2b6a5672-1e3f-42b6-ad07-c786fd0d7597"
      },
      "execution_count": 99,
      "outputs": [
        {
          "output_type": "execute_result",
          "data": {
            "text/plain": [
              "array([ 0,  1,  2,  3,  4,  5,  6,  7,  8,  9, 10, 11])"
            ]
          },
          "metadata": {},
          "execution_count": 99
        }
      ]
    },
    {
      "cell_type": "code",
      "source": [
        "arr.base, arr.shape"
      ],
      "metadata": {
        "id": "kAWzHUjn24lh"
      },
      "execution_count": null,
      "outputs": []
    },
    {
      "cell_type": "markdown",
      "source": [
        "###### 차원 추가"
      ],
      "metadata": {
        "id": "G5wpPAyO3BEc"
      }
    },
    {
      "cell_type": "code",
      "source": [
        "arr1 = np.expand_dims(arr, axis=0)"
      ],
      "metadata": {
        "id": "8mUCoyXx3GUM"
      },
      "execution_count": 103,
      "outputs": []
    },
    {
      "cell_type": "code",
      "source": [
        "arr2 = np.expand_dims(arr, axis=1)"
      ],
      "metadata": {
        "id": "IEEpJOD53Vy6"
      },
      "execution_count": 104,
      "outputs": []
    },
    {
      "cell_type": "code",
      "source": [
        "arr.shape, arr1.shape, arr2.shape"
      ],
      "metadata": {
        "colab": {
          "base_uri": "https://localhost:8080/"
        },
        "id": "ByRPOTJt3jDm",
        "outputId": "3f9f0124-3e5c-45c8-a09c-f8a0b3329a9b"
      },
      "execution_count": 106,
      "outputs": [
        {
          "output_type": "execute_result",
          "data": {
            "text/plain": [
              "((12,), (1, 12), (12, 1))"
            ]
          },
          "metadata": {},
          "execution_count": 106
        }
      ]
    },
    {
      "cell_type": "code",
      "source": [
        "arr.resize(4,3)\n",
        "arr"
      ],
      "metadata": {
        "colab": {
          "base_uri": "https://localhost:8080/"
        },
        "id": "uxz155LJ3n8o",
        "outputId": "3d096256-1b80-4799-97f2-5e667526dd27"
      },
      "execution_count": 120,
      "outputs": [
        {
          "output_type": "execute_result",
          "data": {
            "text/plain": [
              "array([[ 0,  1,  2],\n",
              "       [ 3,  4,  5],\n",
              "       [ 6,  7,  8],\n",
              "       [ 9, 10, 11]])"
            ]
          },
          "metadata": {},
          "execution_count": 120
        }
      ]
    },
    {
      "cell_type": "code",
      "source": [
        "arr.ravel()"
      ],
      "metadata": {
        "colab": {
          "base_uri": "https://localhost:8080/"
        },
        "id": "tlvRGjsd35Yg",
        "outputId": "7fa2f08d-29e6-465c-c785-d3b651ff0250"
      },
      "execution_count": 126,
      "outputs": [
        {
          "output_type": "execute_result",
          "data": {
            "text/plain": [
              "array([ 0,  1,  2,  3,  4,  5,  6,  7,  8,  9, 10, 11])"
            ]
          },
          "metadata": {},
          "execution_count": 126
        }
      ]
    },
    {
      "cell_type": "code",
      "source": [
        "arr.T \n",
        "print(arr)"
      ],
      "metadata": {
        "colab": {
          "base_uri": "https://localhost:8080/"
        },
        "id": "FMFJwz3L4HVu",
        "outputId": "67b0876e-1d4d-4451-de83-8b51acbb7690"
      },
      "execution_count": 148,
      "outputs": [
        {
          "output_type": "stream",
          "name": "stdout",
          "text": [
            "[[ 0  1  2]\n",
            " [ 3  4  5]\n",
            " [ 6  7  8]\n",
            " [ 9 10 11]]\n"
          ]
        }
      ]
    },
    {
      "cell_type": "markdown",
      "source": [
        "##### 데이터 타입"
      ],
      "metadata": {
        "id": "AFAc4Zaa53rj"
      }
    },
    {
      "cell_type": "code",
      "source": [
        "arr = np.arange(20)"
      ],
      "metadata": {
        "id": "TOgYc31h57eK"
      },
      "execution_count": 149,
      "outputs": []
    },
    {
      "cell_type": "code",
      "source": [
        "arr.dtype"
      ],
      "metadata": {
        "colab": {
          "base_uri": "https://localhost:8080/"
        },
        "id": "fb9ElwE-6A_k",
        "outputId": "3fd86aa5-8c11-480e-b8c1-08d2abba1f50"
      },
      "execution_count": 150,
      "outputs": [
        {
          "output_type": "execute_result",
          "data": {
            "text/plain": [
              "dtype('int64')"
            ]
          },
          "metadata": {},
          "execution_count": 150
        }
      ]
    },
    {
      "cell_type": "code",
      "source": [
        "arr = arr.astype(np.float32)\n",
        "arr.dtype"
      ],
      "metadata": {
        "colab": {
          "base_uri": "https://localhost:8080/"
        },
        "id": "1VgkCAD66Cdf",
        "outputId": "c23e5a58-bc86-4876-a27c-563cd60f85cb"
      },
      "execution_count": 151,
      "outputs": [
        {
          "output_type": "execute_result",
          "data": {
            "text/plain": [
              "dtype('float32')"
            ]
          },
          "metadata": {},
          "execution_count": 151
        }
      ]
    },
    {
      "cell_type": "code",
      "source": [
        "arr = arr.reshape(4,-1)\n",
        "arr"
      ],
      "metadata": {
        "colab": {
          "base_uri": "https://localhost:8080/"
        },
        "id": "hCTQaxyX7MR5",
        "outputId": "da0b63a4-255f-4e78-e578-34b8992347cd"
      },
      "execution_count": 159,
      "outputs": [
        {
          "output_type": "execute_result",
          "data": {
            "text/plain": [
              "array([[ 0.,  1.,  2.,  3.,  4.],\n",
              "       [ 5.,  6.,  7.,  8.,  9.],\n",
              "       [10., 11., 12., 13., 14.],\n",
              "       [15., 16., 17., 18., 19.]], dtype=float32)"
            ]
          },
          "metadata": {},
          "execution_count": 159
        }
      ]
    },
    {
      "cell_type": "code",
      "source": [
        "arr = np.array([1,2,3],dtype = np.int32) # 4바이트 크기의 정수\n",
        "arr.dtype, arr"
      ],
      "metadata": {
        "colab": {
          "base_uri": "https://localhost:8080/"
        },
        "id": "SqaDsGQp7MUn",
        "outputId": "1c6b0a57-403d-4638-8fcd-4cbaa3ff3379"
      },
      "execution_count": 166,
      "outputs": [
        {
          "output_type": "execute_result",
          "data": {
            "text/plain": [
              "(dtype('int32'), array([1, 2, 3], dtype=int32))"
            ]
          },
          "metadata": {},
          "execution_count": 166
        }
      ]
    },
    {
      "cell_type": "code",
      "source": [
        "arr = np.array([1,2,3],dtype = np.float64) # 8바이트 크기의 실수수\n",
        "arr.dtype, arr"
      ],
      "metadata": {
        "colab": {
          "base_uri": "https://localhost:8080/"
        },
        "id": "ey6mYDeU7MXd",
        "outputId": "22bf24eb-0a39-4b22-8822-c06a11686be7"
      },
      "execution_count": 164,
      "outputs": [
        {
          "output_type": "execute_result",
          "data": {
            "text/plain": [
              "(dtype('float64'), array([1., 2., 3.]))"
            ]
          },
          "metadata": {},
          "execution_count": 164
        }
      ]
    },
    {
      "cell_type": "code",
      "source": [
        "arr = np.array([1,2,3],dtype=np.uint8) # 1바이트 크기의 부호 없는 정수(0~255)\n",
        "arr.dtype, arr"
      ],
      "metadata": {
        "colab": {
          "base_uri": "https://localhost:8080/"
        },
        "id": "Nx4Bo3Lo7_UA",
        "outputId": "cf915548-fda8-4401-a718-4adc821e5433"
      },
      "execution_count": 165,
      "outputs": [
        {
          "output_type": "execute_result",
          "data": {
            "text/plain": [
              "(dtype('uint8'), array([1, 2, 3], dtype=uint8))"
            ]
          },
          "metadata": {},
          "execution_count": 165
        }
      ]
    },
    {
      "cell_type": "code",
      "source": [
        "np.power(100, 8, dtype=np.int64) # correct"
      ],
      "metadata": {
        "colab": {
          "base_uri": "https://localhost:8080/"
        },
        "id": "0-5Kbn_U7_0a",
        "outputId": "48614dfc-c111-432f-d0bf-0a8b7689e0da"
      },
      "execution_count": 168,
      "outputs": [
        {
          "output_type": "execute_result",
          "data": {
            "text/plain": [
              "10000000000000000"
            ]
          },
          "metadata": {},
          "execution_count": 168
        }
      ]
    },
    {
      "cell_type": "code",
      "source": [
        "np.power(100, 8, dtype=np.int32) # incorrect"
      ],
      "metadata": {
        "colab": {
          "base_uri": "https://localhost:8080/"
        },
        "id": "4KlOA41w9DR4",
        "outputId": "2b5e9f0b-4fec-4dea-9055-7ee52fa1860c"
      },
      "execution_count": 169,
      "outputs": [
        {
          "output_type": "execute_result",
          "data": {
            "text/plain": [
              "1874919424"
            ]
          },
          "metadata": {},
          "execution_count": 169
        }
      ]
    },
    {
      "cell_type": "code",
      "source": [
        "np.power(100, 100, dtype=np.float64) # correct"
      ],
      "metadata": {
        "colab": {
          "base_uri": "https://localhost:8080/"
        },
        "id": "1emQbGxk9DUp",
        "outputId": "55d3e6f7-4536-4f7f-f4a1-dc105ffe09a5"
      },
      "execution_count": 171,
      "outputs": [
        {
          "output_type": "execute_result",
          "data": {
            "text/plain": [
              "1e+200"
            ]
          },
          "metadata": {},
          "execution_count": 171
        }
      ]
    },
    {
      "cell_type": "code",
      "source": [
        "np.power(100, 100, dtype=np.int64) # incorrect"
      ],
      "metadata": {
        "colab": {
          "base_uri": "https://localhost:8080/"
        },
        "id": "FszWahZG9DX0",
        "outputId": "b38b8174-3e2a-4385-b1b2-9129f031e2ec"
      },
      "execution_count": 172,
      "outputs": [
        {
          "output_type": "execute_result",
          "data": {
            "text/plain": [
              "0"
            ]
          },
          "metadata": {},
          "execution_count": 172
        }
      ]
    },
    {
      "cell_type": "code",
      "source": [
        "np.iinfo(np.uint8)"
      ],
      "metadata": {
        "colab": {
          "base_uri": "https://localhost:8080/"
        },
        "id": "mFMu1aB19Dav",
        "outputId": "b6e6e34d-028f-40ac-ebc2-0b314ad2d652"
      },
      "execution_count": 173,
      "outputs": [
        {
          "output_type": "execute_result",
          "data": {
            "text/plain": [
              "iinfo(min=0, max=255, dtype=uint8)"
            ]
          },
          "metadata": {},
          "execution_count": 173
        }
      ]
    },
    {
      "cell_type": "code",
      "source": [
        "np.iinfo(np.int64)"
      ],
      "metadata": {
        "colab": {
          "base_uri": "https://localhost:8080/"
        },
        "id": "WRbPhbSs9Ddp",
        "outputId": "61e22177-6bfe-4707-d80d-82c4d0b6c862"
      },
      "execution_count": 178,
      "outputs": [
        {
          "output_type": "execute_result",
          "data": {
            "text/plain": [
              "iinfo(min=-9223372036854775808, max=9223372036854775807, dtype=int64)"
            ]
          },
          "metadata": {},
          "execution_count": 178
        }
      ]
    },
    {
      "cell_type": "code",
      "source": [
        "np.iinfo(np.int32)"
      ],
      "metadata": {
        "colab": {
          "base_uri": "https://localhost:8080/"
        },
        "id": "bWx_LEbr9DgR",
        "outputId": "055884d9-3a7e-426a-f480-be0fe9d7f910"
      },
      "execution_count": 179,
      "outputs": [
        {
          "output_type": "execute_result",
          "data": {
            "text/plain": [
              "iinfo(min=-2147483648, max=2147483647, dtype=int32)"
            ]
          },
          "metadata": {},
          "execution_count": 179
        }
      ]
    },
    {
      "cell_type": "markdown",
      "source": [
        "##### 슬라이싱/인덱싱"
      ],
      "metadata": {
        "id": "0RyCzyFWACjW"
      }
    },
    {
      "cell_type": "code",
      "source": [],
      "metadata": {
        "id": "JuK5ljHmAP6S"
      },
      "execution_count": null,
      "outputs": []
    },
    {
      "cell_type": "markdown",
      "source": [
        "##### 배열 조건 연산산"
      ],
      "metadata": {
        "id": "HnIzck2MARd9"
      }
    },
    {
      "cell_type": "code",
      "source": [
        "arr = np.array([[1 , 2, 3, 4], [5, 6, 7, 8], [9, 10, 11, 12]])\n",
        "arr"
      ],
      "metadata": {
        "colab": {
          "base_uri": "https://localhost:8080/"
        },
        "id": "0W2GBb5cAZKS",
        "outputId": "382f16aa-6cf4-46c8-aec5-3ea4242370f8"
      },
      "execution_count": 184,
      "outputs": [
        {
          "output_type": "execute_result",
          "data": {
            "text/plain": [
              "array([[ 1,  2,  3,  4],\n",
              "       [ 5,  6,  7,  8],\n",
              "       [ 9, 10, 11, 12]])"
            ]
          },
          "metadata": {},
          "execution_count": 184
        }
      ]
    },
    {
      "cell_type": "code",
      "source": [
        "arr[arr < 5]"
      ],
      "metadata": {
        "colab": {
          "base_uri": "https://localhost:8080/"
        },
        "id": "de-JuYaGAaYU",
        "outputId": "02f32b2b-d5c7-4630-cb7d-165b5e7b06c7"
      },
      "execution_count": 185,
      "outputs": [
        {
          "output_type": "execute_result",
          "data": {
            "text/plain": [
              "array([1, 2, 3, 4])"
            ]
          },
          "metadata": {},
          "execution_count": 185
        }
      ]
    },
    {
      "cell_type": "code",
      "source": [
        "cond = (arr >= 5)\n",
        "arr[cond]"
      ],
      "metadata": {
        "colab": {
          "base_uri": "https://localhost:8080/"
        },
        "id": "YTXATn6xAaxi",
        "outputId": "aedf7f3a-289c-4beb-a5a0-2c2af22838a8"
      },
      "execution_count": 188,
      "outputs": [
        {
          "output_type": "execute_result",
          "data": {
            "text/plain": [
              "array([ 5,  6,  7,  8,  9, 10, 11, 12])"
            ]
          },
          "metadata": {},
          "execution_count": 188
        }
      ]
    },
    {
      "cell_type": "code",
      "source": [
        "arr[arr%2 == 0]"
      ],
      "metadata": {
        "colab": {
          "base_uri": "https://localhost:8080/"
        },
        "id": "MK4J2uavAzAi",
        "outputId": "90de9fdc-bfc7-476a-db03-3a0f2f2feaec"
      },
      "execution_count": 187,
      "outputs": [
        {
          "output_type": "execute_result",
          "data": {
            "text/plain": [
              "array([ 2,  4,  6,  8, 10, 12])"
            ]
          },
          "metadata": {},
          "execution_count": 187
        }
      ]
    },
    {
      "cell_type": "code",
      "source": [
        "cond = (arr > 2) & (arr < 11)\n",
        "arr[cond]"
      ],
      "metadata": {
        "colab": {
          "base_uri": "https://localhost:8080/"
        },
        "id": "iNwU3ra3Azpy",
        "outputId": "d7effb37-c124-44e9-bb0e-0d32967b5e6d"
      },
      "execution_count": 190,
      "outputs": [
        {
          "output_type": "execute_result",
          "data": {
            "text/plain": [
              "array([ 3,  4,  5,  6,  7,  8,  9, 10])"
            ]
          },
          "metadata": {},
          "execution_count": 190
        }
      ]
    },
    {
      "cell_type": "code",
      "source": [
        "cond = ( arr > 5) | (arr == 5)\n",
        "arr[cond]"
      ],
      "metadata": {
        "colab": {
          "base_uri": "https://localhost:8080/"
        },
        "id": "lGR1boDRA6S-",
        "outputId": "5e9ad20d-078e-4e7b-ce40-0942b41ff2ad"
      },
      "execution_count": 191,
      "outputs": [
        {
          "output_type": "execute_result",
          "data": {
            "text/plain": [
              "array([ 5,  6,  7,  8,  9, 10, 11, 12])"
            ]
          },
          "metadata": {},
          "execution_count": 191
        }
      ]
    },
    {
      "cell_type": "code",
      "source": [
        "np.any(arr>5)"
      ],
      "metadata": {
        "colab": {
          "base_uri": "https://localhost:8080/"
        },
        "id": "lguimPmxBFKM",
        "outputId": "603a42c6-5c66-483e-a37b-e7a167989489"
      },
      "execution_count": 193,
      "outputs": [
        {
          "output_type": "execute_result",
          "data": {
            "text/plain": [
              "True"
            ]
          },
          "metadata": {},
          "execution_count": 193
        }
      ]
    },
    {
      "cell_type": "code",
      "source": [
        "np.all(arr > 5)"
      ],
      "metadata": {
        "colab": {
          "base_uri": "https://localhost:8080/"
        },
        "id": "UD0FsMRoBFz7",
        "outputId": "4ebd3976-64e9-41b2-a679-e4406d1f482f"
      },
      "execution_count": 194,
      "outputs": [
        {
          "output_type": "execute_result",
          "data": {
            "text/plain": [
              "False"
            ]
          },
          "metadata": {},
          "execution_count": 194
        }
      ]
    },
    {
      "cell_type": "code",
      "source": [
        "np.where(arr>5, 1, 0)"
      ],
      "metadata": {
        "colab": {
          "base_uri": "https://localhost:8080/"
        },
        "id": "YiM77D14BGPN",
        "outputId": "143e4ef7-987e-453f-a72e-2bd2d644380a"
      },
      "execution_count": 195,
      "outputs": [
        {
          "output_type": "execute_result",
          "data": {
            "text/plain": [
              "array([[0, 0, 0, 0],\n",
              "       [0, 1, 1, 1],\n",
              "       [1, 1, 1, 1]])"
            ]
          },
          "metadata": {},
          "execution_count": 195
        }
      ]
    },
    {
      "cell_type": "markdown",
      "source": [
        "### np.clip(array, min, max).   \n",
        "- ##### 배열의 요소가 min보다 작으면 min으로 변경\n",
        "- ##### 배열의 요소가 max보다 크면 max로 변경"
      ],
      "metadata": {
        "id": "Q2azjTTWCv-8"
      }
    },
    {
      "cell_type": "code",
      "source": [
        "np.clip(arr, 5, 8)"
      ],
      "metadata": {
        "colab": {
          "base_uri": "https://localhost:8080/"
        },
        "id": "V8t8C6F-C06K",
        "outputId": "70628e15-16fd-4b52-c771-80a531bba309"
      },
      "execution_count": 196,
      "outputs": [
        {
          "output_type": "execute_result",
          "data": {
            "text/plain": [
              "array([[5, 5, 5, 5],\n",
              "       [5, 6, 7, 8],\n",
              "       [8, 8, 8, 8]])"
            ]
          },
          "metadata": {},
          "execution_count": 196
        }
      ]
    },
    {
      "cell_type": "markdown",
      "source": [
        "###### np.inf: 무한\n",
        "###### np.nan: 결측치"
      ],
      "metadata": {
        "id": "67LfxGHGDCus"
      }
    },
    {
      "cell_type": "code",
      "source": [
        "arr = np.array([np.inf, np.nan, 3,4,5,np.nan,6,7])\n",
        "arr"
      ],
      "metadata": {
        "colab": {
          "base_uri": "https://localhost:8080/"
        },
        "id": "vVQtmKQHC20Q",
        "outputId": "f0dc27ab-40ac-4a25-94e0-2dad623c74ef"
      },
      "execution_count": 198,
      "outputs": [
        {
          "output_type": "execute_result",
          "data": {
            "text/plain": [
              "array([inf, nan,  3.,  4.,  5., nan,  6.,  7.])"
            ]
          },
          "metadata": {},
          "execution_count": 198
        }
      ]
    },
    {
      "cell_type": "code",
      "source": [
        "is_inf = np.isinf(arr)\n",
        "np.any(is_inf), np.all(is_inf)\n",
        "\n",
        "is_nan = np.isnan(arr)\n",
        "np.any(is_nan), np.all(is_nan)"
      ],
      "metadata": {
        "colab": {
          "base_uri": "https://localhost:8080/"
        },
        "id": "6XUcJPurDlhH",
        "outputId": "4f1280bd-f14c-4dc2-c898-27b5527e1093"
      },
      "execution_count": 200,
      "outputs": [
        {
          "output_type": "execute_result",
          "data": {
            "text/plain": [
              "(True, False)"
            ]
          },
          "metadata": {},
          "execution_count": 200
        }
      ]
    },
    {
      "cell_type": "code",
      "source": [
        "is_inf = np.isnan(arr)\n",
        "np.any(is_nan), np.all(is_nan)"
      ],
      "metadata": {
        "colab": {
          "base_uri": "https://localhost:8080/"
        },
        "id": "uPL0LYK_DZvH",
        "outputId": "2db422df-4f0f-498d-830f-fcf53bc54a1d"
      },
      "execution_count": 202,
      "outputs": [
        {
          "output_type": "execute_result",
          "data": {
            "text/plain": [
              "(True, False)"
            ]
          },
          "metadata": {},
          "execution_count": 202
        }
      ]
    },
    {
      "cell_type": "code",
      "source": [
        "np.isfinite(arr)"
      ],
      "metadata": {
        "colab": {
          "base_uri": "https://localhost:8080/"
        },
        "id": "V81zoNoXDrYI",
        "outputId": "51048a87-43e9-4fd6-a556-ae46a8e637ff"
      },
      "execution_count": 203,
      "outputs": [
        {
          "output_type": "execute_result",
          "data": {
            "text/plain": [
              "array([False, False,  True,  True,  True, False,  True,  True])"
            ]
          },
          "metadata": {},
          "execution_count": 203
        }
      ]
    },
    {
      "cell_type": "code",
      "source": [
        "arr[np.isfinite(arr) == False] = 0\n",
        "arr"
      ],
      "metadata": {
        "colab": {
          "base_uri": "https://localhost:8080/"
        },
        "id": "bU0auW2nECgG",
        "outputId": "f787592d-233a-46a6-841c-7d09e797fcf9"
      },
      "execution_count": 205,
      "outputs": [
        {
          "output_type": "execute_result",
          "data": {
            "text/plain": [
              "array([0., 0., 3., 4., 5., 0., 6., 7.])"
            ]
          },
          "metadata": {},
          "execution_count": 205
        }
      ]
    },
    {
      "cell_type": "code",
      "source": [
        "is_inf = np.isinf(arr)\n",
        "np.any(is_inf), np.all(is_inf)"
      ],
      "metadata": {
        "colab": {
          "base_uri": "https://localhost:8080/"
        },
        "id": "gGmgdshUEYNf",
        "outputId": "e771a4fc-9cc0-4420-fcaf-5eba0eb659c2"
      },
      "execution_count": 206,
      "outputs": [
        {
          "output_type": "execute_result",
          "data": {
            "text/plain": [
              "(False, False)"
            ]
          },
          "metadata": {},
          "execution_count": 206
        }
      ]
    },
    {
      "cell_type": "code",
      "source": [
        "is_nan = np.isnan(arr)\n",
        "np.any(is_nan), np.all(is_nan)"
      ],
      "metadata": {
        "colab": {
          "base_uri": "https://localhost:8080/"
        },
        "id": "pazsFD26EYxF",
        "outputId": "3bf3878a-1a97-42ce-eeb8-07ac9f918ca5"
      },
      "execution_count": 207,
      "outputs": [
        {
          "output_type": "execute_result",
          "data": {
            "text/plain": [
              "(False, False)"
            ]
          },
          "metadata": {},
          "execution_count": 207
        }
      ]
    },
    {
      "cell_type": "markdown",
      "source": [
        "### 마스킹"
      ],
      "metadata": {
        "id": "D4GZWPaOE-hn"
      }
    },
    {
      "cell_type": "code",
      "source": [
        "lst=[\n",
        "    [1,2,3],\n",
        "    [4,5,6],\n",
        "    [7,8,9]\n",
        "]\n",
        "\n",
        "arr=np.array(lst)"
      ],
      "metadata": {
        "id": "UISukw-3FAhQ"
      },
      "execution_count": 208,
      "outputs": []
    },
    {
      "cell_type": "code",
      "source": [
        "mask=[True, False, False]\n",
        "arr[:,mask]"
      ],
      "metadata": {
        "colab": {
          "base_uri": "https://localhost:8080/"
        },
        "id": "7-MheYBtFSjN",
        "outputId": "4c6cc5b4-37c5-480e-fb52-7f75ab26bfb4"
      },
      "execution_count": 217,
      "outputs": [
        {
          "output_type": "execute_result",
          "data": {
            "text/plain": [
              "array([[1],\n",
              "       [4],\n",
              "       [7]])"
            ]
          },
          "metadata": {},
          "execution_count": 217
        }
      ]
    },
    {
      "cell_type": "code",
      "source": [
        "mask= arr>5\n",
        "arr[mask]"
      ],
      "metadata": {
        "colab": {
          "base_uri": "https://localhost:8080/"
        },
        "id": "aMm0K0FUFd06",
        "outputId": "1042ee61-8488-4623-c10a-5952c36957ef"
      },
      "execution_count": 219,
      "outputs": [
        {
          "output_type": "execute_result",
          "data": {
            "text/plain": [
              "array([6, 7, 8, 9])"
            ]
          },
          "metadata": {},
          "execution_count": 219
        }
      ]
    },
    {
      "cell_type": "markdown",
      "source": [
        "### Broadcasting\n",
        "> 배열의 모양이 다르더라도 어떠한 조건이 만족했을 때, 작은 배열을 자동으로 큰 배열 크기에 맞춘다.\n",
        "> \n",
        ">행, 열 중 적어도 하나의 크기가 같아야 한다."
      ],
      "metadata": {
        "id": "71dyUcfIGOQz"
      }
    },
    {
      "cell_type": "code",
      "source": [],
      "metadata": {
        "id": "rquwDfuTGQUB"
      },
      "execution_count": null,
      "outputs": []
    }
  ]
}