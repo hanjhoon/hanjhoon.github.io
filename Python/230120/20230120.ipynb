{
 "cells": [
  {
   "cell_type": "markdown",
   "id": "4f01bfa9",
   "metadata": {},
   "source": [
    "### Jupyter \n",
    "* 분석용\n",
    "* 결과를 바로 확인할 수 있음 (인터액티브)\n",
    "* Julia, Python, R(통계학자)\n",
    "* Cell -> m버튼 -> markdown -> 문서 작성 \n",
    "* Cell -> y버튼 -> Python Cell 변환 \n",
    "* Cell 실행 방법 \n",
    "    * Shift + Enter -> 현재 Cell 실행하고 아래로 이동\n",
    "    * Ctrl + Enter  -> 현재 Cell만 실행 \n",
    "    * Alt + Enter   -> 현재 Cell 실행하고 아래 새로운 Cell 생성 "
   ]
  },
  {
   "cell_type": "code",
   "execution_count": null,
   "id": "a5af7867",
   "metadata": {},
   "outputs": [],
   "source": []
  },
  {
   "cell_type": "code",
   "execution_count": 7,
   "id": "eb564b87",
   "metadata": {},
   "outputs": [
    {
     "data": {
      "text/plain": [
       "2"
      ]
     },
     "execution_count": 7,
     "metadata": {},
     "output_type": "execute_result"
    }
   ],
   "source": [
    "5 //  2 "
   ]
  },
  {
   "cell_type": "markdown",
   "id": "8df1d1d5",
   "metadata": {},
   "source": [
    "# 변수 "
   ]
  },
  {
   "cell_type": "code",
   "execution_count": 3,
   "id": "ea7141ff",
   "metadata": {},
   "outputs": [],
   "source": [
    "a  =  10"
   ]
  },
  {
   "cell_type": "code",
   "execution_count": 4,
   "id": "a4d97a11",
   "metadata": {},
   "outputs": [
    {
     "data": {
      "text/plain": [
       "10"
      ]
     },
     "execution_count": 4,
     "metadata": {},
     "output_type": "execute_result"
    }
   ],
   "source": [
    "a"
   ]
  },
  {
   "cell_type": "code",
   "execution_count": 5,
   "id": "aaf6dabe",
   "metadata": {},
   "outputs": [],
   "source": [
    "b = 20"
   ]
  },
  {
   "cell_type": "code",
   "execution_count": 6,
   "id": "3d412a32",
   "metadata": {},
   "outputs": [
    {
     "data": {
      "text/plain": [
       "30"
      ]
     },
     "execution_count": 6,
     "metadata": {},
     "output_type": "execute_result"
    }
   ],
   "source": [
    "a + b"
   ]
  },
  {
   "cell_type": "code",
   "execution_count": 10,
   "id": "7b196049",
   "metadata": {},
   "outputs": [],
   "source": [
    "b = 100"
   ]
  },
  {
   "cell_type": "code",
   "execution_count": 11,
   "id": "947e3fb3",
   "metadata": {},
   "outputs": [
    {
     "data": {
      "text/plain": [
       "int"
      ]
     },
     "execution_count": 11,
     "metadata": {},
     "output_type": "execute_result"
    }
   ],
   "source": [
    "type(b)"
   ]
  },
  {
   "cell_type": "code",
   "execution_count": 12,
   "id": "654a583d",
   "metadata": {},
   "outputs": [],
   "source": [
    "c = 100.0"
   ]
  },
  {
   "cell_type": "code",
   "execution_count": 13,
   "id": "cb79f09f",
   "metadata": {},
   "outputs": [
    {
     "data": {
      "text/plain": [
       "float"
      ]
     },
     "execution_count": 13,
     "metadata": {},
     "output_type": "execute_result"
    }
   ],
   "source": [
    "type(c)"
   ]
  },
  {
   "cell_type": "code",
   "execution_count": 15,
   "id": "49ae39bb",
   "metadata": {},
   "outputs": [
    {
     "data": {
      "text/plain": [
       "True"
      ]
     },
     "execution_count": 15,
     "metadata": {},
     "output_type": "execute_result"
    }
   ],
   "source": [
    "b == 100"
   ]
  },
  {
   "cell_type": "code",
   "execution_count": 17,
   "id": "380f9574",
   "metadata": {},
   "outputs": [
    {
     "data": {
      "text/plain": [
       "100.0"
      ]
     },
     "execution_count": 17,
     "metadata": {},
     "output_type": "execute_result"
    }
   ],
   "source": [
    "c"
   ]
  },
  {
   "cell_type": "code",
   "execution_count": 18,
   "id": "ec64ca39",
   "metadata": {},
   "outputs": [
    {
     "data": {
      "text/plain": [
       "float"
      ]
     },
     "execution_count": 18,
     "metadata": {},
     "output_type": "execute_result"
    }
   ],
   "source": [
    "type(c)"
   ]
  },
  {
   "cell_type": "code",
   "execution_count": 19,
   "id": "3cbae423",
   "metadata": {},
   "outputs": [],
   "source": [
    "d = \"Welcome to world!!\""
   ]
  },
  {
   "cell_type": "code",
   "execution_count": 20,
   "id": "b56e303a",
   "metadata": {},
   "outputs": [
    {
     "data": {
      "text/plain": [
       "str"
      ]
     },
     "execution_count": 20,
     "metadata": {},
     "output_type": "execute_result"
    }
   ],
   "source": [
    "type(d)"
   ]
  },
  {
   "cell_type": "markdown",
   "id": "b950042f",
   "metadata": {},
   "source": [
    "* String(스트링) -> 문자열 "
   ]
  },
  {
   "cell_type": "code",
   "execution_count": 22,
   "id": "b9dce981",
   "metadata": {},
   "outputs": [],
   "source": [
    "encore = '엔코아 2반입니다.'"
   ]
  },
  {
   "cell_type": "code",
   "execution_count": 24,
   "id": "5352a53b",
   "metadata": {},
   "outputs": [],
   "source": [
    "encore2 = \"Job's iphone\""
   ]
  },
  {
   "cell_type": "code",
   "execution_count": 25,
   "id": "5fb4bad6",
   "metadata": {},
   "outputs": [],
   "source": [
    "encore3 = 'Job\\'s iphone'"
   ]
  },
  {
   "cell_type": "code",
   "execution_count": 26,
   "id": "6a57ae3c",
   "metadata": {},
   "outputs": [],
   "source": [
    "names = [\"강경원\",\"강미나\",\"강시라\",\"강시원\",\"강시현\",\"강예빈\",\"권은빈\",\"기희현\",\"김나영\",\"김다니\",\"김다정\",\"김도연\",\"김도희\",\"김미소\",\"김민경\",\"김민정\",\"김민지\",\"김보선\",\"김서경\",\"김설아\",\"김세정\",\"김소혜\",\"김소희\",\"김솔이\",\"김수현\",\"김시현\",\"김시현\",\"김연경\",\"김우정\",\"김윤지\",\"김자연\",\"김주나\",\"김지성\",\"김청하\",\"김태하\",\"김하윤\",\"김형은\",\"김홍은\",\"남수진\",\"시오리\",\"마은진\",\"문현주\",\"박가을\",\"박민지\",\"박세희\",\"박소연\",\"박시연\",\"박하이\",\"박해영\",\"방준희\",\"서혜린\",\"성혜민\",\"신혜현\",\"심채은\",\"아리요\",\"안예슬\",\"안유미\",\"오서정\",\"오한아\",\"유수아\",\"유연정\",\"윤서형\",\"윤유담\",\"윤채경\",\"이서정\",\"이세흔\",\"이수민\",]"
   ]
  },
  {
   "cell_type": "code",
   "execution_count": 34,
   "id": "0bf18c94",
   "metadata": {},
   "outputs": [],
   "source": [
    "text = \"\"\"{}고객님 대출 이자 {}% 입니다.... \n",
    "   김미영팀장\"\"\""
   ]
  },
  {
   "cell_type": "code",
   "execution_count": 35,
   "id": "25dd2d17",
   "metadata": {},
   "outputs": [
    {
     "name": "stdout",
     "output_type": "stream",
     "text": [
      "엔코아고객님 대출 이자 0.4% 입니다.... \n",
      "   김미영팀장\n"
     ]
    }
   ],
   "source": [
    "print(text.format(\"엔코아\", 0.4))"
   ]
  },
  {
   "cell_type": "code",
   "execution_count": 29,
   "id": "74d19211",
   "metadata": {},
   "outputs": [
    {
     "name": "stdout",
     "output_type": "stream",
     "text": [
      "강경원고객님 대출 한도가.... \n",
      "   김미영팀장\n",
      "강미나고객님 대출 한도가.... \n",
      "   김미영팀장\n",
      "강시라고객님 대출 한도가.... \n",
      "   김미영팀장\n",
      "강시원고객님 대출 한도가.... \n",
      "   김미영팀장\n",
      "강시현고객님 대출 한도가.... \n",
      "   김미영팀장\n",
      "강예빈고객님 대출 한도가.... \n",
      "   김미영팀장\n",
      "권은빈고객님 대출 한도가.... \n",
      "   김미영팀장\n",
      "기희현고객님 대출 한도가.... \n",
      "   김미영팀장\n",
      "김나영고객님 대출 한도가.... \n",
      "   김미영팀장\n",
      "김다니고객님 대출 한도가.... \n",
      "   김미영팀장\n",
      "김다정고객님 대출 한도가.... \n",
      "   김미영팀장\n",
      "김도연고객님 대출 한도가.... \n",
      "   김미영팀장\n",
      "김도희고객님 대출 한도가.... \n",
      "   김미영팀장\n",
      "김미소고객님 대출 한도가.... \n",
      "   김미영팀장\n",
      "김민경고객님 대출 한도가.... \n",
      "   김미영팀장\n",
      "김민정고객님 대출 한도가.... \n",
      "   김미영팀장\n",
      "김민지고객님 대출 한도가.... \n",
      "   김미영팀장\n",
      "김보선고객님 대출 한도가.... \n",
      "   김미영팀장\n",
      "김서경고객님 대출 한도가.... \n",
      "   김미영팀장\n",
      "김설아고객님 대출 한도가.... \n",
      "   김미영팀장\n",
      "김세정고객님 대출 한도가.... \n",
      "   김미영팀장\n",
      "김소혜고객님 대출 한도가.... \n",
      "   김미영팀장\n",
      "김소희고객님 대출 한도가.... \n",
      "   김미영팀장\n",
      "김솔이고객님 대출 한도가.... \n",
      "   김미영팀장\n",
      "김수현고객님 대출 한도가.... \n",
      "   김미영팀장\n",
      "김시현고객님 대출 한도가.... \n",
      "   김미영팀장\n",
      "김시현고객님 대출 한도가.... \n",
      "   김미영팀장\n",
      "김연경고객님 대출 한도가.... \n",
      "   김미영팀장\n",
      "김우정고객님 대출 한도가.... \n",
      "   김미영팀장\n",
      "김윤지고객님 대출 한도가.... \n",
      "   김미영팀장\n",
      "김자연고객님 대출 한도가.... \n",
      "   김미영팀장\n",
      "김주나고객님 대출 한도가.... \n",
      "   김미영팀장\n",
      "김지성고객님 대출 한도가.... \n",
      "   김미영팀장\n",
      "김청하고객님 대출 한도가.... \n",
      "   김미영팀장\n",
      "김태하고객님 대출 한도가.... \n",
      "   김미영팀장\n",
      "김하윤고객님 대출 한도가.... \n",
      "   김미영팀장\n",
      "김형은고객님 대출 한도가.... \n",
      "   김미영팀장\n",
      "김홍은고객님 대출 한도가.... \n",
      "   김미영팀장\n",
      "남수진고객님 대출 한도가.... \n",
      "   김미영팀장\n",
      "시오리고객님 대출 한도가.... \n",
      "   김미영팀장\n",
      "마은진고객님 대출 한도가.... \n",
      "   김미영팀장\n",
      "문현주고객님 대출 한도가.... \n",
      "   김미영팀장\n",
      "박가을고객님 대출 한도가.... \n",
      "   김미영팀장\n",
      "박민지고객님 대출 한도가.... \n",
      "   김미영팀장\n",
      "박세희고객님 대출 한도가.... \n",
      "   김미영팀장\n",
      "박소연고객님 대출 한도가.... \n",
      "   김미영팀장\n",
      "박시연고객님 대출 한도가.... \n",
      "   김미영팀장\n",
      "박하이고객님 대출 한도가.... \n",
      "   김미영팀장\n",
      "박해영고객님 대출 한도가.... \n",
      "   김미영팀장\n",
      "방준희고객님 대출 한도가.... \n",
      "   김미영팀장\n",
      "서혜린고객님 대출 한도가.... \n",
      "   김미영팀장\n",
      "성혜민고객님 대출 한도가.... \n",
      "   김미영팀장\n",
      "신혜현고객님 대출 한도가.... \n",
      "   김미영팀장\n",
      "심채은고객님 대출 한도가.... \n",
      "   김미영팀장\n",
      "아리요고객님 대출 한도가.... \n",
      "   김미영팀장\n",
      "안예슬고객님 대출 한도가.... \n",
      "   김미영팀장\n",
      "안유미고객님 대출 한도가.... \n",
      "   김미영팀장\n",
      "오서정고객님 대출 한도가.... \n",
      "   김미영팀장\n",
      "오한아고객님 대출 한도가.... \n",
      "   김미영팀장\n",
      "유수아고객님 대출 한도가.... \n",
      "   김미영팀장\n",
      "유연정고객님 대출 한도가.... \n",
      "   김미영팀장\n",
      "윤서형고객님 대출 한도가.... \n",
      "   김미영팀장\n",
      "윤유담고객님 대출 한도가.... \n",
      "   김미영팀장\n",
      "윤채경고객님 대출 한도가.... \n",
      "   김미영팀장\n",
      "이서정고객님 대출 한도가.... \n",
      "   김미영팀장\n",
      "이세흔고객님 대출 한도가.... \n",
      "   김미영팀장\n",
      "이수민고객님 대출 한도가.... \n",
      "   김미영팀장\n"
     ]
    }
   ],
   "source": [
    "for x in names:\n",
    "    print(text.format(x))"
   ]
  },
  {
   "cell_type": "code",
   "execution_count": 36,
   "id": "6f1e2250",
   "metadata": {},
   "outputs": [],
   "source": [
    "encore = \"동해물과 백두산이\""
   ]
  },
  {
   "cell_type": "code",
   "execution_count": 39,
   "id": "6eff1a48",
   "metadata": {},
   "outputs": [
    {
     "ename": "IndexError",
     "evalue": "string index out of range",
     "output_type": "error",
     "traceback": [
      "\u001b[1;31m---------------------------------------------------------------------------\u001b[0m",
      "\u001b[1;31mIndexError\u001b[0m                                Traceback (most recent call last)",
      "\u001b[1;32m~\\AppData\\Local\\Temp\\ipykernel_3060\\3125919188.py\u001b[0m in \u001b[0;36m<module>\u001b[1;34m\u001b[0m\n\u001b[1;32m----> 1\u001b[1;33m \u001b[0mencore\u001b[0m\u001b[1;33m[\u001b[0m\u001b[1;36m80\u001b[0m\u001b[1;33m]\u001b[0m\u001b[1;33m\u001b[0m\u001b[1;33m\u001b[0m\u001b[0m\n\u001b[0m",
      "\u001b[1;31mIndexError\u001b[0m: string index out of range"
     ]
    }
   ],
   "source": [
    "encore[80]"
   ]
  },
  {
   "cell_type": "code",
   "execution_count": 40,
   "id": "40a8e78a",
   "metadata": {},
   "outputs": [],
   "source": [
    "encore2 = \"asfhasoidfhasodfjasodfiasdoifjasd;fijas;difojasofjasdfasdfasdf\""
   ]
  },
  {
   "cell_type": "code",
   "execution_count": 43,
   "id": "8fc71d50",
   "metadata": {},
   "outputs": [
    {
     "data": {
      "text/plain": [
       "'동'"
      ]
     },
     "execution_count": 43,
     "metadata": {},
     "output_type": "execute_result"
    }
   ],
   "source": [
    "encore[-9]"
   ]
  },
  {
   "cell_type": "code",
   "execution_count": 44,
   "id": "f33ace2d",
   "metadata": {},
   "outputs": [
    {
     "data": {
      "text/plain": [
       "'동'"
      ]
     },
     "execution_count": 44,
     "metadata": {},
     "output_type": "execute_result"
    }
   ],
   "source": [
    "encore[0]"
   ]
  },
  {
   "cell_type": "code",
   "execution_count": 51,
   "id": "9b923718",
   "metadata": {},
   "outputs": [
    {
     "data": {
      "text/plain": [
       "'이산두백 과물해동'"
      ]
     },
     "execution_count": 51,
     "metadata": {},
     "output_type": "execute_result"
    }
   ],
   "source": [
    "encore[::-1]"
   ]
  },
  {
   "cell_type": "code",
   "execution_count": null,
   "id": "675f01f4",
   "metadata": {},
   "outputs": [],
   "source": [
    "[start:end:step]"
   ]
  },
  {
   "cell_type": "code",
   "execution_count": 52,
   "id": "423a070c",
   "metadata": {},
   "outputs": [],
   "source": [
    "encore3 = \"엔코아\""
   ]
  },
  {
   "cell_type": "code",
   "execution_count": 54,
   "id": "d7f36453",
   "metadata": {},
   "outputs": [],
   "source": [
    "encore4 = encore3 + \"바보\""
   ]
  },
  {
   "cell_type": "code",
   "execution_count": 56,
   "id": "49a4e86f",
   "metadata": {
    "scrolled": false
   },
   "outputs": [
    {
     "data": {
      "text/plain": [
       "5"
      ]
     },
     "execution_count": 56,
     "metadata": {},
     "output_type": "execute_result"
    }
   ],
   "source": [
    "len(encore4)"
   ]
  },
  {
   "cell_type": "code",
   "execution_count": 57,
   "id": "191bd2db",
   "metadata": {},
   "outputs": [
    {
     "data": {
      "text/plain": [
       "'엔코아엔코아엔코아엔코아엔코아엔코아엔코아엔코아엔코아엔코아'"
      ]
     },
     "execution_count": 57,
     "metadata": {},
     "output_type": "execute_result"
    }
   ],
   "source": [
    "encore3 * 10"
   ]
  },
  {
   "cell_type": "markdown",
   "id": "b0669946",
   "metadata": {},
   "source": [
    "# list"
   ]
  },
  {
   "cell_type": "code",
   "execution_count": 58,
   "id": "6af09591",
   "metadata": {},
   "outputs": [],
   "source": [
    "a = [1, 1, 1, 1, 1, \"apple\"]"
   ]
  },
  {
   "cell_type": "code",
   "execution_count": 60,
   "id": "c61d893c",
   "metadata": {},
   "outputs": [
    {
     "data": {
      "text/plain": [
       "[1, 1, 1, 1, 1]"
      ]
     },
     "execution_count": 60,
     "metadata": {},
     "output_type": "execute_result"
    }
   ],
   "source": [
    "a[:-1]"
   ]
  },
  {
   "cell_type": "code",
   "execution_count": 64,
   "id": "a1074908",
   "metadata": {},
   "outputs": [
    {
     "name": "stdout",
     "output_type": "stream",
     "text": [
      "값을 입력토마토\n"
     ]
    }
   ],
   "source": [
    "text  = input(\"값을 입력\")"
   ]
  },
  {
   "cell_type": "code",
   "execution_count": 65,
   "id": "64d25d39",
   "metadata": {},
   "outputs": [
    {
     "data": {
      "text/plain": [
       "'토마토'"
      ]
     },
     "execution_count": 65,
     "metadata": {},
     "output_type": "execute_result"
    }
   ],
   "source": [
    "text"
   ]
  },
  {
   "cell_type": "code",
   "execution_count": 67,
   "id": "2286da8e",
   "metadata": {},
   "outputs": [
    {
     "name": "stdout",
     "output_type": "stream",
     "text": [
      "값을 입력기러기\n"
     ]
    }
   ],
   "source": [
    "text  = input(\"값을 입력\")"
   ]
  },
  {
   "cell_type": "code",
   "execution_count": 68,
   "id": "6aa51f8b",
   "metadata": {},
   "outputs": [
    {
     "data": {
      "text/plain": [
       "'기러기'"
      ]
     },
     "execution_count": 68,
     "metadata": {},
     "output_type": "execute_result"
    }
   ],
   "source": [
    "text"
   ]
  },
  {
   "cell_type": "code",
   "execution_count": null,
   "id": "2335fef7",
   "metadata": {},
   "outputs": [],
   "source": [
    "# ==, 시퀀스형 데이터 역순  \n",
    "if ______________ :\n",
    "    print(\"앞에서 읽어도 뒤에서 읽어도 같음\")"
   ]
  },
  {
   "cell_type": "markdown",
   "id": "be508111",
   "metadata": {},
   "source": [
    "회문(回文) 또는 팰린드롬(palindrome)"
   ]
  },
  {
   "cell_type": "code",
   "execution_count": 75,
   "id": "be7c7ad3",
   "metadata": {},
   "outputs": [
    {
     "name": "stdout",
     "output_type": "stream",
     "text": [
      "값을 입력엔코아\n",
      "팰린드롬이 아니여\n"
     ]
    }
   ],
   "source": [
    "text  = input(\"값을 입력\")\n",
    "if text == text[::-1]:\n",
    "    print(\"앞에서 읽어도 뒤에서 읽어도 같음\")\n",
    "    print(\"실행될까요?\")\n",
    "else:\n",
    "    print(\"팰린드롬이 아니여\")"
   ]
  },
  {
   "cell_type": "code",
   "execution_count": 78,
   "id": "cf3c9493",
   "metadata": {},
   "outputs": [
    {
     "name": "stdout",
     "output_type": "stream",
     "text": [
      "나이를 입력 : 36\n",
      "중년\n"
     ]
    }
   ],
   "source": [
    "age = int(input(\"나이를 입력 : \"))\n",
    "\n",
    "if age < 20 : \n",
    "    print(\"청소년\")\n",
    "elif age < 35:\n",
    "    print(\"청년\")\n",
    "else:\n",
    "    print(\"중년\")"
   ]
  },
  {
   "cell_type": "code",
   "execution_count": 79,
   "id": "d84bf6c4",
   "metadata": {},
   "outputs": [
    {
     "data": {
      "text/plain": [
       "0.30000000000000004"
      ]
     },
     "execution_count": 79,
     "metadata": {},
     "output_type": "execute_result"
    }
   ],
   "source": [
    "0.1 + 0.2 "
   ]
  },
  {
   "cell_type": "code",
   "execution_count": null,
   "id": "dfcbb5b8",
   "metadata": {},
   "outputs": [],
   "source": []
  },
  {
   "cell_type": "code",
   "execution_count": null,
   "id": "bfbfbf6d",
   "metadata": {},
   "outputs": [],
   "source": []
  }
 ],
 "metadata": {
  "kernelspec": {
   "display_name": "Python 3",
   "language": "python",
   "name": "python3"
  },
  "language_info": {
   "codemirror_mode": {
    "name": "ipython",
    "version": 3
   },
   "file_extension": ".py",
   "mimetype": "text/x-python",
   "name": "python",
   "nbconvert_exporter": "python",
   "pygments_lexer": "ipython3",
   "version": "3.11.1 (tags/v3.11.1:a7a450f, Dec  6 2022, 19:58:39) [MSC v.1934 64 bit (AMD64)]"
  },
  "vscode": {
   "interpreter": {
    "hash": "92917df8dc556877081e077b52d14485c39b602bd4533d5b9058a16923a95ac9"
   }
  }
 },
 "nbformat": 4,
 "nbformat_minor": 5
}
