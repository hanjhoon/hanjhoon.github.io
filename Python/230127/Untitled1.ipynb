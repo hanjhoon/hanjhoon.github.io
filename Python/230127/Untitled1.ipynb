{
 "cells": [
  {
   "cell_type": "code",
   "execution_count": 1,
   "id": "fbc9aa84",
   "metadata": {},
   "outputs": [],
   "source": [
    "import os"
   ]
  },
  {
   "cell_type": "code",
   "execution_count": 2,
   "id": "8ea8845f",
   "metadata": {},
   "outputs": [
    {
     "ename": "FileNotFoundError",
     "evalue": "[WinError 3] 지정된 경로를 찾을 수 없습니다: 'C:\\\\workspace\\\\231027'",
     "output_type": "error",
     "traceback": [
      "\u001b[1;31m---------------------------------------------------------------------------\u001b[0m",
      "\u001b[1;31mFileNotFoundError\u001b[0m                         Traceback (most recent call last)",
      "\u001b[1;32m~\\AppData\\Local\\Temp\\ipykernel_5736\\623625746.py\u001b[0m in \u001b[0;36m<module>\u001b[1;34m\u001b[0m\n\u001b[1;32m----> 1\u001b[1;33m \u001b[0mos\u001b[0m\u001b[1;33m.\u001b[0m\u001b[0mlistdir\u001b[0m\u001b[1;33m(\u001b[0m\u001b[1;34m\"C:\\\\workspace\\\\231027\"\u001b[0m\u001b[1;33m)\u001b[0m\u001b[1;33m\u001b[0m\u001b[1;33m\u001b[0m\u001b[0m\n\u001b[0m",
      "\u001b[1;31mFileNotFoundError\u001b[0m: [WinError 3] 지정된 경로를 찾을 수 없습니다: 'C:\\\\workspace\\\\231027'"
     ]
    }
   ],
   "source": [
    "os.listdir(\"C:\\\\workspace\\\\231027\")"
   ]
  },
  {
   "cell_type": "code",
   "execution_count": 57,
   "id": "f46e62b7",
   "metadata": {},
   "outputs": [],
   "source": [
    "for roots, dirs, files in os.walk(\"C:\\\\workspace\\\\231027\\\\이름_생년_성별_10000\"):\n",
    "    for file in files:\n",
    "        with open(\"./file.txt\",'a') as f:\n",
    "            f.write(\"{}/{}\\n\".format(roots, file))"
   ]
  },
  {
   "cell_type": "code",
   "execution_count": 4,
   "id": "ddd9d1ae",
   "metadata": {
    "scrolled": true
   },
   "outputs": [],
   "source": [
    "import shutil\n",
    "for roots, dirs, files in os.walk(\"C:\\\\workspace\\\\231027\\\\이름_생년_성별_10000\"):\n",
    "    for file in files:\n",
    "        if file[13]=='1' or file[13]=='3':\n",
    "            shutil.move(f\"c:\\\\workspace\\\\231027\\\\이름_생년_성별_10000\\\\{file}\", \"c:\\\\workspace\\\\231027\\\\남자\")\n",
    "        else:\n",
    "            shutil.move(f\"c:\\\\workspace\\\\231027\\\\이름_생년_성별_10000\\\\{file}\", \"c:\\\\workspace\\\\231027\\\\여자\")"
   ]
  },
  {
   "cell_type": "code",
   "execution_count": 14,
   "id": "29998609",
   "metadata": {},
   "outputs": [],
   "source": [
    "import shutil\n",
    "if os.path.isdir(\"./male\") == False:\n",
    "    os.mkdir(\"./male\")\n",
    "if os.path.isdir(\"./female\") == False:\n",
    "    os.mkdir(\"./female\")\n",
    "male_total = []\n",
    "female_total = []\n",
    "for roots, dirs, files in os.walk(\"./이름_생년_성별_10000/\"):\n",
    "    for file in files:\n",
    "        #print(\"{}/{}\".format(roots, file))\n",
    "        with open(\"{}/{}\".format(roots, file), \"r\" ) as f:\n",
    "            tmp = f.read()\n",
    "        if file.split(\"_\")[-1][0] == '1' or file.split(\"_\")[-1][0] == '3':\n",
    "            shutil.move(\"{}/{}\".format(roots, file), \"./male/\")\n",
    "            male_total.append(tmp)\n",
    "        else:\n",
    "            shutil.move(\"{}/{}\".format(roots, file), \"./female/\")\n",
    "            female_total.append(tmp)"
   ]
  },
  {
   "cell_type": "code",
   "execution_count": 15,
   "id": "c4dd4086",
   "metadata": {},
   "outputs": [
    {
     "data": {
      "text/plain": [
       "11900177.712397356"
      ]
     },
     "execution_count": 15,
     "metadata": {},
     "output_type": "execute_result"
    }
   ],
   "source": [
    "sum(map(lambda x : int(x.replace(\",\", \"\")), male_total)) / len(male_total)"
   ]
  },
  {
   "cell_type": "code",
   "execution_count": 16,
   "id": "3e41ce43",
   "metadata": {},
   "outputs": [
    {
     "data": {
      "text/plain": [
       "12802368.483323347"
      ]
     },
     "execution_count": 16,
     "metadata": {},
     "output_type": "execute_result"
    }
   ],
   "source": [
    "sum(map(lambda x : int(x.replace(\",\", \"\")), female_total)) / len(female_total)"
   ]
  },
  {
   "cell_type": "code",
   "execution_count": 3,
   "id": "1f033ea4",
   "metadata": {},
   "outputs": [],
   "source": [
    "import selenium\n",
    "from selenium.webdriver.common.by import By"
   ]
  },
  {
   "cell_type": "code",
   "execution_count": 4,
   "id": "d6444f2a",
   "metadata": {},
   "outputs": [],
   "source": [
    "driver=selenium.webdriver.Chrome()"
   ]
  },
  {
   "cell_type": "code",
   "execution_count": 5,
   "id": "1f5669dd",
   "metadata": {},
   "outputs": [],
   "source": [
    "url=\"https://www.koreabaseball.com/\""
   ]
  },
  {
   "cell_type": "code",
   "execution_count": 6,
   "id": "640ed33b",
   "metadata": {},
   "outputs": [],
   "source": [
    "driver.get(url)"
   ]
  },
  {
   "cell_type": "code",
   "execution_count": 7,
   "id": "32a8f138",
   "metadata": {},
   "outputs": [],
   "source": [
    "driver.find_element(By.CSS_SELECTOR,\n",
    "                    \"#popupVideo > img\").click()    "
   ]
  },
  {
   "cell_type": "code",
   "execution_count": 8,
   "id": "00de7040",
   "metadata": {},
   "outputs": [],
   "source": [
    "driver.find_element(By.CSS_SELECTOR,\n",
    "                    \"#lnb > li:nth-child(4) > a\").click()"
   ]
  },
  {
   "cell_type": "code",
   "execution_count": 64,
   "id": "8be0b2d6",
   "metadata": {},
   "outputs": [
    {
     "name": "stdout",
     "output_type": "stream",
     "text": [
      "Message: no such element: Unable to locate element: {\"method\":\"css selector\",\"selector\":\"#cphContents_cphContents_cphContents_ucPager_btnNo5\"}\n",
      "  (Session info: chrome=109.0.5414.120)\n",
      "Stacktrace:\n",
      "Backtrace:\n",
      "\t(No symbol) [0x00F66643]\n",
      "\t(No symbol) [0x00EFBE21]\n",
      "\t(No symbol) [0x00DFDA9D]\n",
      "\t(No symbol) [0x00E31342]\n",
      "\t(No symbol) [0x00E3147B]\n",
      "\t(No symbol) [0x00E68DC2]\n",
      "\t(No symbol) [0x00E4FDC4]\n",
      "\t(No symbol) [0x00E66B09]\n",
      "\t(No symbol) [0x00E4FB76]\n",
      "\t(No symbol) [0x00E249C1]\n",
      "\t(No symbol) [0x00E25E5D]\n",
      "\tGetHandleVerifier [0x011DA142+2497106]\n",
      "\tGetHandleVerifier [0x012085D3+2686691]\n",
      "\tGetHandleVerifier [0x0120BB9C+2700460]\n",
      "\tGetHandleVerifier [0x01013B10+635936]\n",
      "\t(No symbol) [0x00F04A1F]\n",
      "\t(No symbol) [0x00F0A418]\n",
      "\t(No symbol) [0x00F0A505]\n",
      "\t(No symbol) [0x00F1508B]\n",
      "\tBaseThreadInitThunk [0x76297D69+25]\n",
      "\tRtlInitializeExceptionChain [0x772FBB9B+107]\n",
      "\tRtlClearBits [0x772FBB1F+191]\n",
      "\n"
     ]
    }
   ],
   "source": [
    "import time\n",
    "import re\n",
    "select_team = \"#cphContents_cphContents_cphContents_ddlTeam > option:nth-child({})\"\n",
    "select_page = \"#cphContents_cphContents_cphContents_ucPager_btnNo{}\"\n",
    "pattern = re.compile(\"playerId=([0-9]+)\")\n",
    "playid = []\n",
    "for x in range(2,12):\n",
    "    for_1 = select_team.format(x)\n",
    "    driver.find_element(By.CSS_SELECTOR, for_1).click()\n",
    "    time.sleep(2)\n",
    "    #playid.extend(pattern.findall(driver.page_source))\n",
    "    for y in range(1,6):\n",
    "        f2 = select_page.format(y)\n",
    "        try:\n",
    "            driver.find_element(By.CSS_SELECTOR, f2).click()\n",
    "            time.sleep(1)\n",
    "            playid.extend(pattern.findall(driver.page_source))\n",
    "        except Exception as e:\n",
    "            print (e)\n",
    "        time.sleep(2)"
   ]
  },
  {
   "cell_type": "code",
   "execution_count": 9,
   "id": "8ad25bb2",
   "metadata": {},
   "outputs": [
    {
     "ename": "NameError",
     "evalue": "name 'playid' is not defined",
     "output_type": "error",
     "traceback": [
      "\u001b[1;31m---------------------------------------------------------------------------\u001b[0m",
      "\u001b[1;31mNameError\u001b[0m                                 Traceback (most recent call last)",
      "\u001b[1;32m~\\AppData\\Local\\Temp\\ipykernel_5736\\2880294072.py\u001b[0m in \u001b[0;36m<module>\u001b[1;34m\u001b[0m\n\u001b[1;32m----> 1\u001b[1;33m \u001b[0mlen\u001b[0m\u001b[1;33m(\u001b[0m\u001b[0mplayid\u001b[0m\u001b[1;33m)\u001b[0m\u001b[1;33m\u001b[0m\u001b[1;33m\u001b[0m\u001b[0m\n\u001b[0m",
      "\u001b[1;31mNameError\u001b[0m: name 'playid' is not defined"
     ]
    }
   ],
   "source": [
    "len(playid)"
   ]
  },
  {
   "cell_type": "code",
   "execution_count": 10,
   "id": "556ca5b7",
   "metadata": {},
   "outputs": [
    {
     "ename": "NameError",
     "evalue": "name 'playid' is not defined",
     "output_type": "error",
     "traceback": [
      "\u001b[1;31m---------------------------------------------------------------------------\u001b[0m",
      "\u001b[1;31mNameError\u001b[0m                                 Traceback (most recent call last)",
      "\u001b[1;32m~\\AppData\\Local\\Temp\\ipykernel_5736\\1858087291.py\u001b[0m in \u001b[0;36m<module>\u001b[1;34m\u001b[0m\n\u001b[0;32m      2\u001b[0m \u001b[0mpayload\u001b[0m\u001b[1;33m=\u001b[0m\u001b[1;33m{\u001b[0m\u001b[1;34m'key'\u001b[0m\u001b[1;33m:\u001b[0m\u001b[1;34m'value'\u001b[0m\u001b[1;33m,\u001b[0m\u001b[1;34m'key2'\u001b[0m\u001b[1;33m:\u001b[0m\u001b[1;34m'value2'\u001b[0m\u001b[1;33m,\u001b[0m\u001b[1;34m'key3'\u001b[0m\u001b[1;33m:\u001b[0m\u001b[1;34m'value3'\u001b[0m\u001b[1;33m,\u001b[0m\u001b[1;34m'key4'\u001b[0m\u001b[1;33m:\u001b[0m\u001b[1;34m'value4'\u001b[0m\u001b[1;33m}\u001b[0m\u001b[1;33m\u001b[0m\u001b[1;33m\u001b[0m\u001b[0m\n\u001b[0;32m      3\u001b[0m \u001b[0mtotal\u001b[0m\u001b[1;33m=\u001b[0m\u001b[1;33m[\u001b[0m\u001b[1;33m]\u001b[0m\u001b[1;33m\u001b[0m\u001b[1;33m\u001b[0m\u001b[0m\n\u001b[1;32m----> 4\u001b[1;33m \u001b[1;32mfor\u001b[0m \u001b[0mx\u001b[0m \u001b[1;32min\u001b[0m \u001b[0mplayid\u001b[0m\u001b[1;33m:\u001b[0m\u001b[1;33m\u001b[0m\u001b[1;33m\u001b[0m\u001b[0m\n\u001b[0m\u001b[0;32m      5\u001b[0m     \u001b[0murl\u001b[0m\u001b[1;33m=\u001b[0m\u001b[1;34mf\"https://www.koreabaseball.com/Record/Player/PitcherDetail/Basic.aspx?playerId={playid}\"\u001b[0m\u001b[1;33m\u001b[0m\u001b[1;33m\u001b[0m\u001b[0m\n\u001b[0;32m      6\u001b[0m     \u001b[0mr\u001b[0m \u001b[1;33m=\u001b[0m \u001b[0mrequests\u001b[0m\u001b[1;33m.\u001b[0m\u001b[0mpost\u001b[0m\u001b[1;33m(\u001b[0m\u001b[0murl\u001b[0m\u001b[1;33m,\u001b[0m \u001b[0mdata\u001b[0m\u001b[1;33m=\u001b[0m\u001b[0mpayload\u001b[0m\u001b[1;33m)\u001b[0m\u001b[1;33m\u001b[0m\u001b[1;33m\u001b[0m\u001b[0m\n",
      "\u001b[1;31mNameError\u001b[0m: name 'playid' is not defined"
     ]
    }
   ],
   "source": [
    "import requests\n",
    "payload={'key':'value','key2':'value2','key3':'value3','key4':'value4'}\n",
    "total=[]\n",
    "for x in playid:\n",
    "    url=f\"https://www.koreabaseball.com/Record/Player/PitcherDetail/Basic.aspx?playerId={playid}\"\n",
    "    r = requests.post(url, data=payload)\n",
    "    total = total + r.json()['list']"
   ]
  },
  {
   "cell_type": "code",
   "execution_count": 51,
   "id": "5f632d03",
   "metadata": {},
   "outputs": [],
   "source": [
    "import requests \n",
    "#import bs4\n",
    "from bs4 import BeautifulSoup as BS"
   ]
  },
  {
   "cell_type": "code",
   "execution_count": 52,
   "id": "1fa6a740",
   "metadata": {},
   "outputs": [],
   "source": [
    "url = \"https://finance.naver.com/item/sise_day.naver?code={}&page={}\"\n",
    "head = {\"User-Agent\": \"Mozilla/5.0 (Windows NT 10.0; Win64; x64) AppleWebKit/537.36 (KHTML, like Gecko) Chrome/109.0.0.0 Safari/537.36\"}"
   ]
  },
  {
   "cell_type": "code",
   "execution_count": 72,
   "id": "c5482e14",
   "metadata": {},
   "outputs": [
    {
     "name": "stdout",
     "output_type": "stream",
     "text": [
      "https://www.koreabaseball.com/Record/Player/PitcherDetail/Basic.aspx?playerId=51868\n"
     ]
    }
   ],
   "source": [
    "total = []\n",
    "for x in playid:\n",
    "    url=f\"https://www.koreabaseball.com/Record/Player/PitcherDetail/Basic.aspx?playerId={x}\"\n",
    "    for dosi, code in master.items():\n",
    "        payload['p_sido_cd'] = code\n",
    "        r = requests.post(url, data=payload)\n",
    "        total = total + r.json()['list']"
   ]
  },
  {
   "cell_type": "code",
   "execution_count": 74,
   "id": "799cdeb6",
   "metadata": {},
   "outputs": [],
   "source": [
    "result = [{'선수명':x['선수명'],'등번호':x['등번호'],'생년월일':x['생년월일'],'포지션':x['포지션'],'신장/체중':x['신장/체중'],'경력':x['경력'],'입단 계약금':x['입단 계약금'],'연봉':x['연봉'],'지명순위':x['지명순위'],'입단년도':x['입단년도']} for x in total]"
   ]
  },
  {
   "cell_type": "code",
   "execution_count": 75,
   "id": "82f5829b",
   "metadata": {},
   "outputs": [
    {
     "data": {
      "text/plain": [
       "[]"
      ]
     },
     "execution_count": 75,
     "metadata": {},
     "output_type": "execute_result"
    }
   ],
   "source": [
    "'선수명':'선수명'\n",
    "'등번호':'등번호'\n",
    "'생년월일':'생년월일'\n",
    "'포지션':'포지션'\n",
    "'신장/체중':'신장/체중'\n",
    "'경력':'경력'\n",
    "'입단 계약금':'입단 계약금'\n",
    "'연봉':'연봉'\n",
    "'지명순위':'지명순위'\n",
    "'입단년도':'입단년도'"
   ]
  }
 ],
 "metadata": {
  "kernelspec": {
   "display_name": "Python 3 (ipykernel)",
   "language": "python",
   "name": "python3"
  },
  "language_info": {
   "codemirror_mode": {
    "name": "ipython",
    "version": 3
   },
   "file_extension": ".py",
   "mimetype": "text/x-python",
   "name": "python",
   "nbconvert_exporter": "python",
   "pygments_lexer": "ipython3",
   "version": "3.9.13"
  }
 },
 "nbformat": 4,
 "nbformat_minor": 5
}
