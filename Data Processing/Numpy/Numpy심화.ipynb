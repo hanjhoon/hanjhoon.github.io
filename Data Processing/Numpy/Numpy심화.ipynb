{
  "nbformat": 4,
  "nbformat_minor": 0,
  "metadata": {
    "colab": {
      "provenance": [],
      "toc_visible": true
    },
    "kernelspec": {
      "name": "python3",
      "display_name": "Python 3"
    },
    "language_info": {
      "name": "python"
    }
  },
  "cells": [
    {
      "cell_type": "markdown",
      "source": [
        "#배열(array)과 행렬(matrix), 벡터(vector)\n",
        "\n",
        "- 배열(array)은 컴퓨터에서 일반적으로 사용하는 개념으로 수를 포함한 어떤 데이터의 묶음을 의미한다. 1차원으로 묶은 수를 수학에서 벡터(vector)라 부르며 행만 구성된 것을 행백터, 열만으로 구성된 것을 열벡터라 부른다. 2차원으로 묶은 수를 수학에서 행렬(matrix)이라 부르고, 우리가 알고있는 수많은 행열 계산식에 사용된다.\n",
        "\n",
        "- numpy에서는 배열로 계산의 기본을 수행하지만 좀더 편리한 계산을 위해서 하위 자료형으로 matrix(행렬)를 지원하고 있다.\n",
        "\n",
        "- 파이썬 Numpy에서 배열과 행렬의 차이\n",
        "  \n",
        " - array는 수를 포함한 여러 자료의 묶음, matrix는 계산을 위한 수의 다차원 묶음이다.\n",
        "배열(array)은 파이썬 뿐만아니라 일반적으로 컴퓨터 언어에서 여러종류의 데이터의 묶음을 의미하며, 행렬(matrix)는 이들중 다차원으로 수를 묶은 것을 의미한다.\n",
        "우리가 수학에서 사용하는 matrix는 엄밀하게 행렬이며 파이썬에서는 numpy라이브러리의 matrix자료형으로 정의 또는 변환하여 사용하면 보다 손쉽게 행렬계산을 수행 할 수 있다.\n",
        "\n",
        " - numpy 라이브러리에서 matrix 자료형은 array 자료형에서 상속된 하위클래스 개념이며, 수학계산에서 좀더 편리하게 사용하기 위해 matrix 자료형으로 변환하여 사용하면 좋다. 이렇게 생성한 matrix는 좀더 편리하게 수많은 계산식을 사용할 수 있으나, 꼭 matrix로 변환해서 연산할 필요는 없다. 다만 몇가지 연산에서 다른 결과를 나타낼 수 있\n",
        "\n",
        " - 행렬(matrix)을 사용하면 배열(array)보다 연산이 간단함\n",
        "matrix 자료형은 array형 보다 손쉽게 행렬곱 (matrix multiplication, dot product; matrix*matrix) 연산과 복소공액 행렬(conjugated matrix; matrix.H) , 전치행렬(transpose matrix; matrix.T), 역행렬(Inverse matrix; matrix.I) 등 연산을 편리하게 사용 할 수 있다. 즉, 연속해서 수식을 만들어 연산을 수행하는 경우에 함수를 사용하면 불편하고, 이해도도 떨어지게된다. 이럴때 수기로 표현하는 것과 가능한 유사한 형태의 표기를 사용하면 매우 편리할 것이다. 이러한 편리함을 위해 matrix 자료형을 사용하게 되는 것이다."
      ],
      "metadata": {
        "id": "8EaVpfVt_NvS"
      }
    },
    {
      "cell_type": "code",
      "execution_count": 185,
      "metadata": {
        "id": "BJfpEhD5c-ld"
      },
      "outputs": [],
      "source": [
        "import numpy as np"
      ]
    },
    {
      "cell_type": "markdown",
      "source": [
        "### 기본 연산"
      ],
      "metadata": {
        "id": "LfhzmM_meHYo"
      }
    },
    {
      "cell_type": "code",
      "source": [
        "data = np.array([[11,55],[4,5]])\n",
        "data2 = np.array([[11,55],[4,5],[2,3]])\n",
        "ones = np.ones(2, dtype=int)\n",
        "data + ones"
      ],
      "metadata": {
        "colab": {
          "base_uri": "https://localhost:8080/"
        },
        "id": "ZyBJZjPJeFij",
        "outputId": "2d531e2c-a42f-433d-b8bb-8fc139c96808"
      },
      "execution_count": 186,
      "outputs": [
        {
          "output_type": "execute_result",
          "data": {
            "text/plain": [
              "array([[12, 56],\n",
              "       [ 5,  6]])"
            ]
          },
          "metadata": {},
          "execution_count": 186
        }
      ]
    },
    {
      "cell_type": "code",
      "source": [
        "np.add(data, ones)"
      ],
      "metadata": {
        "colab": {
          "base_uri": "https://localhost:8080/"
        },
        "id": "4eXccJZ_ebWK",
        "outputId": "09c23895-353c-48de-9b1d-7256dac14a48"
      },
      "execution_count": 187,
      "outputs": [
        {
          "output_type": "execute_result",
          "data": {
            "text/plain": [
              "array([[12, 56],\n",
              "       [ 5,  6]])"
            ]
          },
          "metadata": {},
          "execution_count": 187
        }
      ]
    },
    {
      "cell_type": "code",
      "source": [
        "data - ones, np.subtract(data, ones), data2 - ones, np.subtract(data2, ones), data2.shape, ones.shape"
      ],
      "metadata": {
        "colab": {
          "base_uri": "https://localhost:8080/"
        },
        "id": "NE8dvLlPed9H",
        "outputId": "7a220ba9-258a-4751-bc30-bcb4ea9a4b42"
      },
      "execution_count": 188,
      "outputs": [
        {
          "output_type": "execute_result",
          "data": {
            "text/plain": [
              "(array([[10, 54],\n",
              "        [ 3,  4]]), array([[10, 54],\n",
              "        [ 3,  4]]), array([[10, 54],\n",
              "        [ 3,  4],\n",
              "        [ 1,  2]]), array([[10, 54],\n",
              "        [ 3,  4],\n",
              "        [ 1,  2]]), (3, 2), (2,))"
            ]
          },
          "metadata": {},
          "execution_count": 188
        }
      ]
    },
    {
      "cell_type": "code",
      "source": [
        "data * data, np.multiply(data, data)"
      ],
      "metadata": {
        "colab": {
          "base_uri": "https://localhost:8080/"
        },
        "id": "94DbNdvte403",
        "outputId": "8d221ae4-944f-449f-e6a4-8922ff1c1889"
      },
      "execution_count": 189,
      "outputs": [
        {
          "output_type": "execute_result",
          "data": {
            "text/plain": [
              "(array([[ 121, 3025],\n",
              "        [  16,   25]]), array([[ 121, 3025],\n",
              "        [  16,   25]]))"
            ]
          },
          "metadata": {},
          "execution_count": 189
        }
      ]
    },
    {
      "cell_type": "code",
      "source": [
        "data / data, np.divide(data, data)"
      ],
      "metadata": {
        "colab": {
          "base_uri": "https://localhost:8080/"
        },
        "id": "mY06VJohe_OT",
        "outputId": "f2f13445-bcd3-4367-949e-0b125a2f0e7a"
      },
      "execution_count": 190,
      "outputs": [
        {
          "output_type": "execute_result",
          "data": {
            "text/plain": [
              "(array([[1., 1.],\n",
              "        [1., 1.]]), array([[1., 1.],\n",
              "        [1., 1.]]))"
            ]
          },
          "metadata": {},
          "execution_count": 190
        }
      ]
    },
    {
      "cell_type": "code",
      "source": [
        "arr=np.array([1,2,3,4,5,6,7,8])\n",
        "arr.sum(), arr.size"
      ],
      "metadata": {
        "colab": {
          "base_uri": "https://localhost:8080/"
        },
        "id": "vQU4afYyrGRN",
        "outputId": "7b0ae652-c8f9-4ec2-ff3a-a69643817dd7"
      },
      "execution_count": 191,
      "outputs": [
        {
          "output_type": "execute_result",
          "data": {
            "text/plain": [
              "(36, 8)"
            ]
          },
          "metadata": {},
          "execution_count": 191
        }
      ]
    },
    {
      "cell_type": "code",
      "source": [
        "arr=arr.reshape(2,4)\n",
        "arr, arr.shape"
      ],
      "metadata": {
        "colab": {
          "base_uri": "https://localhost:8080/"
        },
        "id": "DSk4xOawrqDd",
        "outputId": "5659a099-a64a-4540-9367-6bcbce8549ca"
      },
      "execution_count": 192,
      "outputs": [
        {
          "output_type": "execute_result",
          "data": {
            "text/plain": [
              "(array([[1, 2, 3, 4],\n",
              "        [5, 6, 7, 8]]), (2, 4))"
            ]
          },
          "metadata": {},
          "execution_count": 192
        }
      ]
    },
    {
      "cell_type": "code",
      "source": [
        "arr.sum(), arr.sum(axis=0), arr.sum(axis=1)"
      ],
      "metadata": {
        "colab": {
          "base_uri": "https://localhost:8080/"
        },
        "id": "xfvLc4lIrOzk",
        "outputId": "c3a8f0d3-bbcb-461a-f0df-98d42fe605b7"
      },
      "execution_count": 193,
      "outputs": [
        {
          "output_type": "execute_result",
          "data": {
            "text/plain": [
              "(36, array([ 6,  8, 10, 12]), array([10, 26]))"
            ]
          },
          "metadata": {},
          "execution_count": 193
        }
      ]
    },
    {
      "cell_type": "code",
      "source": [
        "data=np.array([[1,2,3],[1,2,3],[7,8,9]])"
      ],
      "metadata": {
        "id": "8vErY1Idr5n1"
      },
      "execution_count": 194,
      "outputs": []
    },
    {
      "cell_type": "code",
      "source": [
        "data.max(), data.min(), data.sum()"
      ],
      "metadata": {
        "colab": {
          "base_uri": "https://localhost:8080/"
        },
        "id": "Z7vBIt1Ur5qT",
        "outputId": "bf92be67-eb1a-499b-9274-33b6bb4f0d02"
      },
      "execution_count": 195,
      "outputs": [
        {
          "output_type": "execute_result",
          "data": {
            "text/plain": [
              "(9, 1, 36)"
            ]
          },
          "metadata": {},
          "execution_count": 195
        }
      ]
    },
    {
      "cell_type": "markdown",
      "source": [
        "### Broadasting"
      ],
      "metadata": {
        "id": "tuxv8Gf-57Uv"
      }
    },
    {
      "cell_type": "code",
      "source": [
        "data=np.array([1,2])\n",
        "data *1.6"
      ],
      "metadata": {
        "colab": {
          "base_uri": "https://localhost:8080/"
        },
        "id": "VCvpUk5f6BNO",
        "outputId": "a6b41d6e-5506-48bf-93ce-c4673e925e7e"
      },
      "execution_count": 196,
      "outputs": [
        {
          "output_type": "execute_result",
          "data": {
            "text/plain": [
              "array([1.6, 3.2])"
            ]
          },
          "metadata": {},
          "execution_count": 196
        }
      ]
    },
    {
      "cell_type": "markdown",
      "source": [
        "# 선형대수(벡터 / 행렬연산) 함수\n",
        "\n"
      ],
      "metadata": {
        "id": "smMUsCoFqQsH"
      }
    },
    {
      "cell_type": "markdown",
      "source": [
        "### Norm"
      ],
      "metadata": {
        "id": "SDL_i9UY6-4F"
      }
    },
    {
      "cell_type": "markdown",
      "source": [
        "![image.png](data:image/png;base64,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)"
      ],
      "metadata": {
        "id": "GEl0B2Y3sCc8"
      }
    },
    {
      "cell_type": "markdown",
      "source": [
        "![image.png](data:image/png;base64,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)"
      ],
      "metadata": {
        "id": "5OQ5ltk1scMj"
      }
    },
    {
      "cell_type": "markdown",
      "source": [
        "p, q라는 벡터가 있을 때, 두 벡터 차의 절댓값의 합\n",
        "\n",
        "L1 norm에 의해 도출되는 거리를 L1 distance 또는 Manhattan distance로 표현할 수 있습니다.\n",
        "\n",
        "L1 distance는 Rectangular street grid 형태로 표현되며, 이 형태가 New york의 Manhattan에서 택시가 진행하는 형태와 유사하여 이와 같은 이름이 붙여졌다고 합니다."
      ],
      "metadata": {
        "id": "ZYMDWD0P6hKw"
      }
    },
    {
      "cell_type": "markdown",
      "source": [
        "L2 norm은 Euclidean 형태이며 p, q라는 벡터가 있을 때, 두 벡터 사이의  Euclidean distance(직선 거리)\n"
      ],
      "metadata": {
        "id": "GiKmo-qk6lWv"
      }
    },
    {
      "cell_type": "code",
      "source": [
        "u = np.array([1,2,3,4,5])"
      ],
      "metadata": {
        "id": "Oy9ZBxeq6rH2"
      },
      "execution_count": 197,
      "outputs": []
    },
    {
      "cell_type": "code",
      "source": [
        "def l1_norm(x):\n",
        "  x_norm=np.abs(x)\n",
        "  return np.sum(x_norm)\n",
        "\n",
        "l1_norm(u)"
      ],
      "metadata": {
        "colab": {
          "base_uri": "https://localhost:8080/"
        },
        "id": "53hD4AsP6wyg",
        "outputId": "8639771c-5887-4320-b5e1-e40efa0b13b6"
      },
      "execution_count": 198,
      "outputs": [
        {
          "output_type": "execute_result",
          "data": {
            "text/plain": [
              "15"
            ]
          },
          "metadata": {},
          "execution_count": 198
        }
      ]
    },
    {
      "cell_type": "code",
      "source": [
        "def l2_norm(x):\n",
        "  x_norm=np.sum(x*x)\n",
        "  return np.sqrt(x_norm)\n",
        "\n",
        "l2_norm(u)"
      ],
      "metadata": {
        "colab": {
          "base_uri": "https://localhost:8080/"
        },
        "id": "oQ6vwQ-b6zOR",
        "outputId": "c8ded5ea-c6a1-4554-f904-60d6a9b58ced"
      },
      "execution_count": 199,
      "outputs": [
        {
          "output_type": "execute_result",
          "data": {
            "text/plain": [
              "7.416198487095663"
            ]
          },
          "metadata": {},
          "execution_count": 199
        }
      ]
    },
    {
      "cell_type": "code",
      "source": [
        "np.linalg.norm(u, 1)\n",
        "# L1 norm\n",
        "np.linalg.norm(u)\n",
        "# L2 norm"
      ],
      "metadata": {
        "colab": {
          "base_uri": "https://localhost:8080/"
        },
        "id": "Z9LCXNBU62sd",
        "outputId": "83fd0601-5099-4d68-9e6b-2e97efb978d1"
      },
      "execution_count": 200,
      "outputs": [
        {
          "output_type": "execute_result",
          "data": {
            "text/plain": [
              "7.416198487095663"
            ]
          },
          "metadata": {},
          "execution_count": 200
        }
      ]
    },
    {
      "cell_type": "markdown",
      "source": [
        "# 행렬"
      ],
      "metadata": {
        "id": "hxeXekshnm95"
      }
    },
    {
      "cell_type": "markdown",
      "source": [
        "### 행렬 연산"
      ],
      "metadata": {
        "id": "UhjoaCxa7Nb4"
      }
    },
    {
      "cell_type": "code",
      "source": [
        "x= np.array([[3,5],[7,2]])\n",
        "y= np.array([[7,8],[11,23]])\n",
        "z= np.array([[23,45],[111,2]])\n",
        "\n",
        "x+y-z"
      ],
      "metadata": {
        "colab": {
          "base_uri": "https://localhost:8080/"
        },
        "id": "JzUNwe9jwm1h",
        "outputId": "00fcc86b-0ebb-4918-afaa-c2a412510b33"
      },
      "execution_count": 201,
      "outputs": [
        {
          "output_type": "execute_result",
          "data": {
            "text/plain": [
              "array([[-13, -32],\n",
              "       [-93,  23]])"
            ]
          },
          "metadata": {},
          "execution_count": 201
        }
      ]
    },
    {
      "cell_type": "code",
      "source": [
        "x = np.array([1,2,3])\n",
        "y = np.array([4,5,6])\n",
        "\n",
        "np.dot(x,y), x.dot(y.T), y.dot(x.T)"
      ],
      "metadata": {
        "colab": {
          "base_uri": "https://localhost:8080/"
        },
        "id": "S8ckRrJC9piF",
        "outputId": "bdeefb71-df5c-4f9a-ef30-d29f75f27f28"
      },
      "execution_count": 202,
      "outputs": [
        {
          "output_type": "execute_result",
          "data": {
            "text/plain": [
              "(32, 32, 32)"
            ]
          },
          "metadata": {},
          "execution_count": 202
        }
      ]
    },
    {
      "cell_type": "code",
      "source": [
        "a=np.array([1,2,3])\n",
        "b=np.array([[1,2,3]])\n",
        "c=np.array([[[1,2,3]]])\n",
        "\n",
        "print(a.T)\n",
        "print(b.T)\n",
        "print(c.T)\n",
        "\n",
        "print(np.mat(a).I)\n",
        "print(np.mat(b).I)\n",
        "print(np.mat(c).I)\n"
      ],
      "metadata": {
        "colab": {
          "base_uri": "https://localhost:8080/"
        },
        "id": "Ott1wRB6Aqhx",
        "outputId": "e9e511dd-a326-463a-9450-952518c1f893"
      },
      "execution_count": 203,
      "outputs": [
        {
          "output_type": "stream",
          "name": "stdout",
          "text": [
            "[1 2 3]\n",
            "[[1]\n",
            " [2]\n",
            " [3]]\n",
            "[[[1]]\n",
            "\n",
            " [[2]]\n",
            "\n",
            " [[3]]]\n",
            "[[0.07142857]\n",
            " [0.14285714]\n",
            " [0.21428571]]\n",
            "[[0.07142857]\n",
            " [0.14285714]\n",
            " [0.21428571]]\n",
            "[[0.07142857]\n",
            " [0.14285714]\n",
            " [0.21428571]]\n"
          ]
        }
      ]
    },
    {
      "cell_type": "code",
      "source": [
        "x = np.array([[1., 2., 3.], [4., 5., 6.]])\n",
        "y = np.array([[6., 23.], [-1, 7], [8, 9]])\n",
        "\n",
        "print(x)\n",
        "print('-'*10)\n",
        "print(y)"
      ],
      "metadata": {
        "colab": {
          "base_uri": "https://localhost:8080/"
        },
        "id": "XYKOQ7YE-DRE",
        "outputId": "333b2215-f71e-4e1a-b2ed-3ade523fcc76"
      },
      "execution_count": 204,
      "outputs": [
        {
          "output_type": "stream",
          "name": "stdout",
          "text": [
            "[[1. 2. 3.]\n",
            " [4. 5. 6.]]\n",
            "----------\n",
            "[[ 6. 23.]\n",
            " [-1.  7.]\n",
            " [ 8.  9.]]\n"
          ]
        }
      ]
    },
    {
      "cell_type": "code",
      "source": [
        "a = np.array([[1, 2], [3, 4]])\n",
        "b = np.array([[1, 3], [2, 4]])\n",
        "\n",
        "print(a*b)\n",
        "\n",
        "ma = np.mat(a)\n",
        "mb = np.mat(b)\n",
        "\n",
        "print(ma*mb)"
      ],
      "metadata": {
        "colab": {
          "base_uri": "https://localhost:8080/"
        },
        "id": "5rQsOfIWfao2",
        "outputId": "6a7c1efd-210d-4d90-d4ba-4d76ddf601b9"
      },
      "execution_count": 205,
      "outputs": [
        {
          "output_type": "stream",
          "name": "stdout",
          "text": [
            "[[ 1  6]\n",
            " [ 6 16]]\n",
            "[[ 5 11]\n",
            " [11 25]]\n"
          ]
        }
      ]
    },
    {
      "cell_type": "code",
      "source": [
        "a = np.array([[1, 2], [3, 4]])\n",
        "b = np.array([[1-1j, 2-1j], [3, 4]])\n",
        "c = np.array([[1, 3], [2, 4]])\n",
        "d = np.array([[1, 3], [2, 4]])\n",
        "\n",
        "ma = np.mat(a).T\n",
        "print(ma, '매트릭스의 전치값을 반환')\n",
        "\n",
        "mb = np.mat(b).H\n",
        "print(mb, '매트릭스의 공액복소수의 전치값을 반환')\n",
        "\n",
        "from numpy.linalg import inv \n",
        "inv(c)\n",
        "mc = np.mat(c).I\n",
        "print(mc, '매트릭스의 곱의 역함수값을 반환')\n",
        "\n",
        "md = np.mat(d).A\n",
        "print(md, '매트릭스 형식을 다시 array 형식으로 변환하여 반환')\n",
        "\n",
        "## *.T의 경우, array 배열의 전치 값으로도 사용이 가능합니다.\n",
        "## *.A의 경우, 곱 연산을 실행시 원소 곱의 값으로 반환합니다."
      ],
      "metadata": {
        "colab": {
          "base_uri": "https://localhost:8080/"
        },
        "id": "J5r0LtjAjA-k",
        "outputId": "e2d28d8a-2482-4026-ca29-cdf8510fb03b"
      },
      "execution_count": 206,
      "outputs": [
        {
          "output_type": "stream",
          "name": "stdout",
          "text": [
            "[[1 3]\n",
            " [2 4]] 매트릭스의 전치값을 반환\n",
            "[[1.+1.j 3.-0.j]\n",
            " [2.+1.j 4.-0.j]] 매트릭스의 공액복소수의 전치값을 반환\n",
            "[[-2.   1.5]\n",
            " [ 1.  -0.5]] 매트릭스의 곱의 역함수값을 반환\n",
            "[[1 3]\n",
            " [2 4]] 매트릭스 형식을 다시 array 형식으로 변환하여 반환\n"
          ]
        }
      ]
    },
    {
      "cell_type": "code",
      "source": [
        "print(c*d), print(mc*md)"
      ],
      "metadata": {
        "colab": {
          "base_uri": "https://localhost:8080/"
        },
        "id": "6ptR4xBU4qmy",
        "outputId": "0a406235-ee09-4419-e883-7727229e7ac1"
      },
      "execution_count": 207,
      "outputs": [
        {
          "output_type": "stream",
          "name": "stdout",
          "text": [
            "[[ 1  9]\n",
            " [ 4 16]]\n",
            "[[1. 0.]\n",
            " [0. 1.]]\n"
          ]
        },
        {
          "output_type": "execute_result",
          "data": {
            "text/plain": [
              "(None, None)"
            ]
          },
          "metadata": {},
          "execution_count": 207
        }
      ]
    },
    {
      "cell_type": "markdown",
      "source": [
        "### 차원 확장 및 축소"
      ],
      "metadata": {
        "id": "jV6qCGeyolE4"
      }
    },
    {
      "cell_type": "code",
      "source": [
        "arr = np.array([1, 2, 3, 4])\n",
        "#np.newaxis를 이용, 차원을 확장\n",
        "print(arr) \n",
        "print(arr[np.newaxis]) #행 부분에 np.newaxis를 입력시, 차원을 한 단계 추가\n",
        "print(arr[:, np.newaxis, np.newaxis]) #열 부분에 np.newaxis를 입력시, 차원을 분해한 후 한 단계 추가"
      ],
      "metadata": {
        "colab": {
          "base_uri": "https://localhost:8080/"
        },
        "id": "x4S0PZQdjBBF",
        "outputId": "6850fae6-aa1d-4875-da68-6b6225af00e1"
      },
      "execution_count": 232,
      "outputs": [
        {
          "output_type": "stream",
          "name": "stdout",
          "text": [
            "[1 2 3 4]\n",
            "[[1 2 3 4]]\n",
            "[[[1]]\n",
            "\n",
            " [[2]]\n",
            "\n",
            " [[3]]\n",
            "\n",
            " [[4]]]\n"
          ]
        }
      ]
    },
    {
      "cell_type": "code",
      "source": [
        "arr = np.array([[1, 2],\n",
        "              [3, 4]], dtype=int)\n",
        "\n",
        "new_arr = arr[:, np.newaxis]\n",
        "\n",
        "print(arr)\n",
        "\n",
        "print(new_arr)\n",
        "print(new_arr[1][0])\n",
        "print(new_arr[1][0][1])"
      ],
      "metadata": {
        "colab": {
          "base_uri": "https://localhost:8080/"
        },
        "id": "s5zgUhfEvNRI",
        "outputId": "d8c5ed58-6c68-47b6-fca1-09f7081c175f"
      },
      "execution_count": 209,
      "outputs": [
        {
          "output_type": "stream",
          "name": "stdout",
          "text": [
            "[[1 2]\n",
            " [3 4]]\n",
            "[[[1 2]]\n",
            "\n",
            " [[3 4]]]\n",
            "[3 4]\n",
            "4\n"
          ]
        }
      ]
    },
    {
      "cell_type": "markdown",
      "source": [
        "배열[:, :, :, ... , np.newaxis]를 이용하여 차원을 확장시킬 수 있다.\n",
        "\n",
        "차원이 증가함에 따라 index의 표시법이 같이 증가한다.\n",
        "\n",
        "슬라이싱을 통한 연산에 사용"
      ],
      "metadata": {
        "id": "0ikNgZgfvNup"
      }
    },
    {
      "cell_type": "code",
      "source": [
        "arr = np.array([[1], [2], [3]])\n",
        "\n",
        "expansion = np.expand_dims(arr, axis=0)\n",
        "reduction = np.squeeze(arr, axis=1)\n",
        "\n",
        "print(arr)\n",
        "print(expansion)\n",
        "print(reduction)"
      ],
      "metadata": {
        "colab": {
          "base_uri": "https://localhost:8080/"
        },
        "id": "CDJgBpA9vS8B",
        "outputId": "536428b2-1d09-4afc-a452-517fe28159f4"
      },
      "execution_count": 210,
      "outputs": [
        {
          "output_type": "stream",
          "name": "stdout",
          "text": [
            "[[1]\n",
            " [2]\n",
            " [3]]\n",
            "[[[1]\n",
            "  [2]\n",
            "  [3]]]\n",
            "[1 2 3]\n"
          ]
        }
      ]
    },
    {
      "cell_type": "markdown",
      "source": [
        "Numpy 함수를 통해서도 차원을 확장하거나 축소할 수 있다.\n",
        "\n",
        "차원을 확장하는 경우, 지정된 축을 대상으로 차원을 확장한다.\n",
        "\n",
        "np.expand_dims(배열, 축)을 통해 지정된 축의 차원을 확장할 수 있다.\n",
        "\n",
        "차원을 축소하는 경우, 지정된 축을 대상으로 차원을 축소한다.\n",
        "\n",
        "np.squeeze(배열, 축)을 통해 지정된 축의 차원을 축소할 수 있다.\n",
        "\n",
        "만약, 차원 축소 함수에 축을 입력하지 않으면, 1차원 배열로 축소한다."
      ],
      "metadata": {
        "id": "21Y-JFmuvVUJ"
      }
    },
    {
      "cell_type": "markdown",
      "source": [
        "### 난수 발생"
      ],
      "metadata": {
        "id": "3Wh_X0x0zTj-"
      }
    },
    {
      "cell_type": "code",
      "source": [
        "import random"
      ],
      "metadata": {
        "id": "44prnFhBj86R"
      },
      "execution_count": 211,
      "outputs": []
    },
    {
      "cell_type": "code",
      "source": [
        "arr = np.array([[random.random(), random.random(), random.random(), random.random()],[random.random(), random.random(), random.random(), random.random()],[random.random(), random.random(), random.random(), random.random()],[random.random(), random.random(), random.random(), random.random()]]) "
      ],
      "metadata": {
        "id": "87lOtSPKlX4O"
      },
      "execution_count": 212,
      "outputs": []
    },
    {
      "cell_type": "code",
      "source": [
        "arr"
      ],
      "metadata": {
        "colab": {
          "base_uri": "https://localhost:8080/"
        },
        "id": "ltCkyZJmls6Y",
        "outputId": "fedee9c2-b767-4839-dafb-40efd37eca9d"
      },
      "execution_count": 213,
      "outputs": [
        {
          "output_type": "execute_result",
          "data": {
            "text/plain": [
              "array([[0.67422676, 0.92749545, 0.72271578, 0.3527593 ],\n",
              "       [0.34117953, 0.26746545, 0.57297762, 0.98728967],\n",
              "       [0.94834312, 0.28762074, 0.82099671, 0.25965699],\n",
              "       [0.38560177, 0.10674274, 0.87696102, 0.08474348]])"
            ]
          },
          "metadata": {},
          "execution_count": 213
        }
      ]
    },
    {
      "cell_type": "code",
      "source": [
        "arr2=arr.reshape(2,-1)\n",
        "arr2"
      ],
      "metadata": {
        "colab": {
          "base_uri": "https://localhost:8080/"
        },
        "id": "c1uGRlDel9Z9",
        "outputId": "b405dc3a-7a28-468c-ffac-f9874fa44804"
      },
      "execution_count": 214,
      "outputs": [
        {
          "output_type": "execute_result",
          "data": {
            "text/plain": [
              "array([[0.67422676, 0.92749545, 0.72271578, 0.3527593 , 0.34117953,\n",
              "        0.26746545, 0.57297762, 0.98728967],\n",
              "       [0.94834312, 0.28762074, 0.82099671, 0.25965699, 0.38560177,\n",
              "        0.10674274, 0.87696102, 0.08474348]])"
            ]
          },
          "metadata": {},
          "execution_count": 214
        }
      ]
    },
    {
      "cell_type": "code",
      "source": [
        "np.random.seed(43)\n",
        "# 임의의 시드를 생성할 수 있다. 시드 값에 따라 난수와 흡사하지만 항상 같은 결과를 반환\n",
        "a = np.array([1, 2, 3, 4, 5, 6, 7, 8, 9])\n",
        "b = np.random.choice(a, 5, replace=False, p=[0, 0, 0, 0, 0.05, 0.05, 0.05, 0.05, 0.8])\n",
        "# 배열에서 n개의 값을 선택하여 반환, replace를 True로 사용할 경우 : 값이 중복되어 선택되 반환 / False로 사용할 경우 : 값이 중복되지 않는는다.\n",
        "# p를 이용하여 각 데이터가 선택 될 확률 설정 p 배열의 길이는 항상 배열의 길이와 같아야 한다.\n",
        "# p값들의 총합은 항상 1이여야 하며, replace를 False로 사용할 경우, 값이 중복되지 않기 때문에 n개 이상 0의 값과 달라야 한다.\n",
        "print (b)"
      ],
      "metadata": {
        "colab": {
          "base_uri": "https://localhost:8080/"
        },
        "id": "pci1GNqd0fSN",
        "outputId": "3306d3f0-c034-4568-b359-d8a5deb2ef52"
      },
      "execution_count": 215,
      "outputs": [
        {
          "output_type": "stream",
          "name": "stdout",
          "text": [
            "[7 9 8 6 5]\n"
          ]
        }
      ]
    },
    {
      "cell_type": "code",
      "source": [
        "\n",
        "a = np.random.random((2, 3))\n",
        "b = np.random.sample((2, 3)) \n",
        "# 0.0 ~ 1.0 사이의 무작위 (n, m) 크기 배열을 반환\n",
        "c = np.random.rand(2, 2)\n",
        "# 다차원 무작위 배열을 생성\n",
        "d = np.random.randn(2, 2)\n",
        "# 표준 정규 분포에서 무작위 배열을 생성\n",
        "e = np.random.randint(1, 3, (2, 2), dtype=int)\n",
        "# low ~ high-1 사이의 무작위 (n, m) 크기정수 배열을 반환"
      ],
      "metadata": {
        "id": "ck76MdLAzXi8"
      },
      "execution_count": 216,
      "outputs": []
    },
    {
      "cell_type": "code",
      "source": [
        "# 표준정규분포를 갖는 난수 1000개\n",
        "a = np.random.standard_normal(1000)\n",
        "# 표준정규분포를 갖는 난수 10000개\n",
        "b = np.random.standard_normal(10000)\n",
        "# 표준정규분포를 갖는 난수 100000개\n",
        "c = np.random.standard_normal(100000)"
      ],
      "metadata": {
        "id": "2YgtVtzWGtVD"
      },
      "execution_count": 217,
      "outputs": []
    },
    {
      "cell_type": "code",
      "source": [
        "# 평균 0, 표준편차 1인 정규분포를 갖는 난수 500개\n",
        "a = np.random.normal(0, 1, 500)\n",
        "# 평균 1.5, 표준편차 1.5인 정규분포를 갖는 난수 5000개\n",
        "b = np.random.normal(1.5, 1.5, 5000)\n",
        "# 평균 3.0, 표준편차 2.0인 정규분포를 갖는 난수 50000개\n",
        "c = np.random.normal(3.0, 2.0, 50000)"
      ],
      "metadata": {
        "id": "FjrJfH26ISAr"
      },
      "execution_count": 218,
      "outputs": []
    },
    {
      "cell_type": "markdown",
      "source": [
        "### 상수"
      ],
      "metadata": {
        "id": "FarxEz5qN5GF"
      }
    },
    {
      "cell_type": "code",
      "source": [
        "np.inf"
      ],
      "metadata": {
        "colab": {
          "base_uri": "https://localhost:8080/"
        },
        "id": "zgmFmQdUOAU0",
        "outputId": "0b2c17ed-9a40-4cdf-a61c-1da92c0b2edf"
      },
      "execution_count": 219,
      "outputs": [
        {
          "output_type": "execute_result",
          "data": {
            "text/plain": [
              "inf"
            ]
          },
          "metadata": {},
          "execution_count": 219
        }
      ]
    },
    {
      "cell_type": "code",
      "source": [
        "np.nan"
      ],
      "metadata": {
        "colab": {
          "base_uri": "https://localhost:8080/"
        },
        "id": "PU2iztT5OG9u",
        "outputId": "535ed8c0-3fc6-4160-f3b7-5e43d0bc9376"
      },
      "execution_count": 220,
      "outputs": [
        {
          "output_type": "execute_result",
          "data": {
            "text/plain": [
              "nan"
            ]
          },
          "metadata": {},
          "execution_count": 220
        }
      ]
    },
    {
      "cell_type": "code",
      "source": [
        "x=np.array([1,2,3,4,5])\n",
        "\n",
        "x_na=x[:, np.newaxis]\n",
        "print(x_na.shape)\n",
        "x_na"
      ],
      "metadata": {
        "colab": {
          "base_uri": "https://localhost:8080/"
        },
        "id": "rzu5xRE9OHdy",
        "outputId": "9e9f57f4-0be1-46b7-9146-61c961715280"
      },
      "execution_count": 221,
      "outputs": [
        {
          "output_type": "stream",
          "name": "stdout",
          "text": [
            "(5, 1)\n"
          ]
        },
        {
          "output_type": "execute_result",
          "data": {
            "text/plain": [
              "array([[1],\n",
              "       [2],\n",
              "       [3],\n",
              "       [4],\n",
              "       [5]])"
            ]
          },
          "metadata": {},
          "execution_count": 221
        }
      ]
    },
    {
      "cell_type": "code",
      "source": [
        "import numpy as np\n",
        "x=np.array([[[[[1],[1],[1],[1]],[[1],[1],[1],[1]],[[1],[1],[1],[1]]],[[[1],[1],[1],[1]],[[1],[1],[1],[1]],[[1],[1],[1],[1]]],[[[1],[1],[1],[1]],[[1],[1],[1],[1]],[[1],[1],[1],[1]]],[[[1],[1],[1],[1]],[[1],[1],[1],[1]],[[1],[1],[1],[1]]],[[[1],[1],[1],[1]],[[1],[1],[1],[1]],[[1],[1],[1],[1]]],[[[1],[1],[1],[1]],[[1],[1],[1],[1]],[[1],[1],[1],[1]]]],[[[[1],[1],[1],[1]],[[1],[1],[1],[1]],[[1],[1],[1],[1]]],[[[1],[1],[1],[1]],[[1],[1],[1],[1]],[[1],[1],[1],[1]]],[[[1],[1],[1],[1]],[[1],[1],[1],[1]],[[1],[1],[1],[1]]],[[[1],[1],[1],[1]],[[1],[1],[1],[1]],[[1],[1],[1],[1]]],[[[1],[1],[1],[1]],[[1],[1],[1],[1]],[[1],[1],[1],[1]]],[[[1],[1],[1],[1]],[[1],[1],[1],[1]],[[1],[1],[1],[1]]]]])\n",
        "\n",
        "#print(x)\n",
        "print('-'*10)\n",
        "print(x.shape)\n",
        "print(x.ndim)\n",
        "print(len(x)) # 최고 차원의 행 수\n"
      ],
      "metadata": {
        "colab": {
          "base_uri": "https://localhost:8080/"
        },
        "id": "4O2I15yrORek",
        "outputId": "660b025a-3273-4276-e9d8-da9a39649868"
      },
      "execution_count": 233,
      "outputs": [
        {
          "output_type": "stream",
          "name": "stdout",
          "text": [
            "----------\n",
            "(2, 6, 3, 4, 1)\n",
            "5\n",
            "2\n"
          ]
        }
      ]
    },
    {
      "cell_type": "code",
      "source": [],
      "metadata": {
        "id": "MQUzpRz5oK12"
      },
      "execution_count": null,
      "outputs": []
    }
  ]
}